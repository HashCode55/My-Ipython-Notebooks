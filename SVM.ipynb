{
 "cells": [
  {
   "cell_type": "markdown",
   "metadata": {},
   "source": [
    "# Support Vector Machines"
   ]
  },
  {
   "cell_type": "markdown",
   "metadata": {},
   "source": [
    "SVM is another type of classifier which seprates the data-point in the feature space using hyperplanes. When we look at the graph showing SVM there is a weight vector which lets us change the orientation of the hyperplane and the bias which lets us change the distance of hyperplane from the origin. **So our task is to find the appropriate bias and the weight vector so that the datapoints get seprated in two classes!**"
   ]
  },
  {
   "cell_type": "markdown",
   "metadata": {},
   "source": [
    "Now in 1957 Frank Rosenblatt modeled the equation wx + b = 0 as a perceptron and his hypothesis was sadly rejected(*because of the XOR problem*). But then in recent years a concept of adding minimum dimention to seprate the datapoints by doing a trick and using a hyperplane revived it which is called deep learning now. "
   ]
  },
  {
   "cell_type": "markdown",
   "metadata": {},
   "source": [
    "## Something is weird about SVMs"
   ]
  },
  {
   "cell_type": "markdown",
   "metadata": {},
   "source": [
    "First, the motive of support vectors machines is to find maximum margin hyperplane, and the data points which touch this hyperplane(*which'll be the border points*) are called the support vectors. **So SVM only depend on the border cases**\n",
    "Which is weird! "
   ]
  },
  {
   "cell_type": "markdown",
   "metadata": {},
   "source": [
    "### Really, really refer to the slides!"
   ]
  },
  {
   "cell_type": "code",
   "execution_count": null,
   "metadata": {
    "collapsed": true
   },
   "outputs": [],
   "source": []
  }
 ],
 "metadata": {
  "kernelspec": {
   "display_name": "Python 3",
   "language": "python",
   "name": "python3"
  },
  "language_info": {
   "codemirror_mode": {
    "name": "ipython",
    "version": 3
   },
   "file_extension": ".py",
   "mimetype": "text/x-python",
   "name": "python",
   "nbconvert_exporter": "python",
   "pygments_lexer": "ipython3",
   "version": "3.5.1"
  }
 },
 "nbformat": 4,
 "nbformat_minor": 0
}

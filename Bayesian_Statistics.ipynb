{
 "cells": [
  {
   "cell_type": "code",
   "execution_count": 1,
   "metadata": {
    "collapsed": true
   },
   "outputs": [],
   "source": [
    "#traditional stuff\n",
    "%matplotlib inline \n",
    "import numpy as np\n",
    "import scipy as sp\n",
    "import matplotlib as mpl\n",
    "import matplotlib.cm as cm\n",
    "import matplotlib.pyplot as plt\n",
    "import pandas as pd\n",
    "pd.set_option('display.width', 500)\n",
    "pd.set_option('display.max_columns', 100)\n",
    "pd.set_option('display.notebook_repr_html', True)\n",
    "import seaborn as sns\n",
    "sns.set_style(\"whitegrid\")\n",
    "sns.set_context(\"poster\")"
   ]
  },
  {
   "cell_type": "markdown",
   "metadata": {},
   "source": [
    "Functions that we generally need for cross-validation and plotting..."
   ]
  },
  {
   "cell_type": "code",
   "execution_count": 4,
   "metadata": {
    "collapsed": false
   },
   "outputs": [],
   "source": [
    "from sklearn.cross_validation import train_test_split\n",
    "from sklearn.grid_search import GridSearchCV\n",
    "def cv_optimise(clf, Xtrain, Ytrain, params, n_folds = 5):\n",
    "        gs = GridSearchCV(clf, param_grid = params, cv = n_folds)\n",
    "        gs.fit(Xtrain, Ytrain)\n",
    "        print (\"BEST PARAMS\", gs.best_params_)\n",
    "        best = gs.best_estimator_\n",
    "        return best\n",
    "def do_classify(clf, params, df, features, target_name, target_value, mask = None, standardise = False, \n",
    "                train_size = 0.8):\n",
    "    #targetname is one of the features only\n",
    "    subdf = df[features]\n",
    "    #standarisation and normalisation are two different ways to bring the data to scale\n",
    "    if standardise:\n",
    "        subdf = (subdf - subdf.mean()) / subdf.std()\n",
    "    else:\n",
    "        subdf = subdf\n",
    "    X = subdf.values\n",
    "    y = (subdf[target_name].values == target_value) * 1\n",
    "    Xtrain, xtest, Ytrain, ytest = train_test_split(X, y, train_size = train_size)\n",
    "    clf = cv_optimise(clf, Xtrain, Ytrain, params)\n",
    "    #after finding the best classifier with best params, we again fit the train and the test data \n",
    "    clf = clf.fit(Xtrain, Ytrain)\n",
    "    training_accuracy = clf.score(Xtrain, Ytrain)\n",
    "    testing_accuracy = clf.score(Xtest, ytest)\n",
    "    print (\"Accuracy on training data: %0.2f\" % (training_accuracy))\n",
    "    print (\"Accuracy on test data:     %0.2f\" % (test_accuracy))\n",
    "    return clf, Xtrain, ytrain, Xtest, ytest"
   ]
  },
  {
   "cell_type": "code",
   "execution_count": 5,
   "metadata": {
    "collapsed": true
   },
   "outputs": [],
   "source": [
    "from matplotlib.colors import ListedColormap\n",
    "cmap_light = ListedColormap(['#FFAAAA', '#AAFFAA', '#AAAAFF'])\n",
    "cmap_bold = ListedColormap(['#FF0000', '#00FF00', '#0000FF'])\n",
    "cm = plt.cm.RdBu\n",
    "cm_bright = ListedColormap(['#FF0000', '#0000FF'])\n",
    "\n",
    "def points_plot(ax, Xtrain, Xtest, Ytrain, Ytest, mesh = True, Truecolorscale=cmap_light,\n",
    "                cdiscrete=cmap_bold, alpha=0.1, psize=10, zfunc=False, predicted=False):\n",
    "    h = .02\n",
    "    #x has heights and weights \n",
    "    X = np.concatenate(Xtrain, Xtest)\n",
    "    #heights max and min\n",
    "    x_min, x_max = X[:, 0].min() - 0.5, X[:, 0].max() + 0.5\n",
    "    y_min, y_max = X[:, 1].min() - 0.5, X[:, 1].max() + 0.5\n",
    "    #to create points for the meshgrid\n",
    "    xx, yy = np.meshgrid(np.linspace(x_min, x_max, 100), np.linspace(y_min, y_max, 100))\n",
    "    if zfunc:\n",
    "        p0 = clf.predict_proba(np.c_[xx.ravel(), yy.ravel()])[:, 0]\n",
    "        p1 = clf.predict_proba(np.c_[xx.ravel(), yy.ravel()])[:, 1]\n",
    "        z = zfunc(p0, p1)\n",
    "    else:\n",
    "        z = clf.predict(np.c_[xx.ravel(), yy.ravel()])\n",
    "    ZZ = z.reshape(xx.shape)\n",
    "    if mesh:\n",
    "        plt.pcolormesh(xx, yy, ZZ, cmap = cmap_light, alpha = alpha, axes = ax)\n",
    "    if predicted:\n",
    "        #if predicted is true show the predicted values on the map\n",
    "        showtr = clf.predict(Xtrain)\n",
    "        showte = clf.predict(Xtest)\n",
    "    else:\n",
    "        #else just show the true values \n",
    "        showtr = Ytrain\n",
    "        showte = Ytest    \n",
    "    ax.scatter(Xtr[:, 0], Xtr[:, 1], c=showtr-1, cmap=cmap_bold, s=psize, alpha=alpha,edgecolor=\"k\")   "
   ]
  },
  {
   "cell_type": "code",
   "execution_count": null,
   "metadata": {
    "collapsed": true
   },
   "outputs": [],
   "source": []
  }
 ],
 "metadata": {
  "kernelspec": {
   "display_name": "Python 3",
   "language": "python",
   "name": "python3"
  },
  "language_info": {
   "codemirror_mode": {
    "name": "ipython",
    "version": 3
   },
   "file_extension": ".py",
   "mimetype": "text/x-python",
   "name": "python",
   "nbconvert_exporter": "python",
   "pygments_lexer": "ipython3",
   "version": "3.5.1"
  }
 },
 "nbformat": 4,
 "nbformat_minor": 0
}

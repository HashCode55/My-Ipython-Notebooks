{
 "cells": [
  {
   "cell_type": "code",
   "execution_count": 86,
   "metadata": {
    "collapsed": false
   },
   "outputs": [
    {
     "name": "stderr",
     "output_type": "stream",
     "text": [
      "/usr/local/lib/python3.5/site-packages/matplotlib/__init__.py:872: UserWarning: axes.color_cycle is deprecated and replaced with axes.prop_cycle; please use the latter.\n",
      "  warnings.warn(self.msg_depr % (key, alt_key))\n"
     ]
    }
   ],
   "source": [
    "# traditional imports \n",
    "%matplotlib inline\n",
    "import pandas as pd \n",
    "import numpy as np\n",
    "import matplotlib.pyplot as plt\n",
    "#import seaborn as sns\n",
    "from collections import defaultdict\n",
    "import json\n",
    "import matplotlib.cm as cm\n",
    "import scipy as sp\n",
    "from matplotlib import rcParams\n",
    "import matplotlib as mpl\n",
    "\n",
    "#colorbrewer2 Dark2 qualitative color table\n",
    "dark2_colors = [(0.10588235294117647, 0.6196078431372549, 0.4666666666666667),\n",
    "                (0.8509803921568627, 0.37254901960784315, 0.00784313725490196),\n",
    "                (0.4588235294117647, 0.4392156862745098, 0.7019607843137254),\n",
    "                (0.9058823529411765, 0.1607843137254902, 0.5411764705882353),\n",
    "                (0.4, 0.6509803921568628, 0.11764705882352941),\n",
    "                (0.9019607843137255, 0.6705882352941176, 0.00784313725490196),\n",
    "                (0.6509803921568628, 0.4627450980392157, 0.11372549019607843)]\n",
    "\n",
    "rcParams['figure.dpi'] = 150\n",
    "rcParams['axes.color_cycle'] = dark2_colors\n",
    "rcParams['lines.linewidth'] = 2\n",
    "rcParams['axes.facecolor'] = 'white'\n",
    "rcParams['font.size'] = 14\n",
    "rcParams['patch.edgecolor'] = 'white'\n",
    "rcParams['patch.facecolor'] = dark2_colors[0]\n",
    "rcParams['font.family'] = 'StixGeneral'"
   ]
  },
  {
   "cell_type": "code",
   "execution_count": 2,
   "metadata": {
    "collapsed": true
   },
   "outputs": [],
   "source": [
    "def remove_border(axes = None, left = True, bottom = True, right = False, top = False):\n",
    "    ax = axes or plt.gca()\n",
    "    ax.spines['top'].set_visible(top)\n",
    "    ax.spines['bottom'].set_visible(bottom)\n",
    "    ax.spines['right'].set_visible(right)\n",
    "    ax.spines['left'].set_visible(left)\n",
    "    \n",
    "    #turn off all ticks\n",
    "    ax.yaxis.set_ticks_position('none')\n",
    "    ax.xaxis.set_ticks_position('none')\n",
    "    \n",
    "    #now reenable them accordingily \n",
    "    \n",
    "    if top:\n",
    "        ax.xaxis.tick_top()\n",
    "    if bottom:\n",
    "        ax.xaxis.tick_bottom()\n",
    "    if left:\n",
    "        ax.yaxis.tick_left()\n",
    "    if right:\n",
    "        ax.yaxis.tick_right()\n",
    "        \n",
    "pd.set_option('display.width', 500)\n",
    "pd.set_option('display.max_columns', 100)        "
   ]
  },
  {
   "cell_type": "markdown",
   "metadata": {},
   "source": [
    "#### Dataset\n",
    "The data set has been extracted from the Yelp Phoenix restaurants dataset. The dataset is about the reviews, but the data of users and businesses has been joined.... so that we want to work on the single dataset."
   ]
  },
  {
   "cell_type": "code",
   "execution_count": 3,
   "metadata": {
    "collapsed": false
   },
   "outputs": [
    {
     "data": {
      "text/html": [
       "<div>\n",
       "<table border=\"1\" class=\"dataframe\">\n",
       "  <thead>\n",
       "    <tr style=\"text-align: right;\">\n",
       "      <th></th>\n",
       "      <th>user_id</th>\n",
       "      <th>business_id</th>\n",
       "      <th>date</th>\n",
       "      <th>review_id</th>\n",
       "      <th>stars</th>\n",
       "      <th>usefulvotes_review</th>\n",
       "      <th>user_name</th>\n",
       "      <th>categories</th>\n",
       "      <th>biz_name</th>\n",
       "      <th>latitude</th>\n",
       "      <th>longitude</th>\n",
       "      <th>business_avg</th>\n",
       "      <th>business_review_count</th>\n",
       "      <th>user_avg</th>\n",
       "      <th>user_review_count</th>\n",
       "    </tr>\n",
       "  </thead>\n",
       "  <tbody>\n",
       "    <tr>\n",
       "      <th>0</th>\n",
       "      <td>rLtl8ZkDX5vH5nAx9C3q5Q</td>\n",
       "      <td>9yKzy9PApeiPPOUJEtnvkg</td>\n",
       "      <td>2011-01-26 00:00:00</td>\n",
       "      <td>fWKvX83p0-ka4JS3dc6E5A</td>\n",
       "      <td>5</td>\n",
       "      <td>5</td>\n",
       "      <td>Jason</td>\n",
       "      <td>[Breakfast &amp; Brunch, Restaurants]</td>\n",
       "      <td>Morning Glory Cafe</td>\n",
       "      <td>33.390792</td>\n",
       "      <td>-112.012504</td>\n",
       "      <td>3.87156</td>\n",
       "      <td>109</td>\n",
       "      <td>3.796954</td>\n",
       "      <td>197</td>\n",
       "    </tr>\n",
       "    <tr>\n",
       "      <th>1</th>\n",
       "      <td>SBbftLzfYYKItOMFwOTIJg</td>\n",
       "      <td>9yKzy9PApeiPPOUJEtnvkg</td>\n",
       "      <td>2008-05-04 00:00:00</td>\n",
       "      <td>DASdFe-g0BgfN9J2tanStg</td>\n",
       "      <td>5</td>\n",
       "      <td>1</td>\n",
       "      <td>Jennifer</td>\n",
       "      <td>[Breakfast &amp; Brunch, Restaurants]</td>\n",
       "      <td>Morning Glory Cafe</td>\n",
       "      <td>33.390792</td>\n",
       "      <td>-112.012504</td>\n",
       "      <td>3.87156</td>\n",
       "      <td>109</td>\n",
       "      <td>3.473684</td>\n",
       "      <td>57</td>\n",
       "    </tr>\n",
       "    <tr>\n",
       "      <th>2</th>\n",
       "      <td>mlBC3pN9GXlUUfQi1qBBZA</td>\n",
       "      <td>9yKzy9PApeiPPOUJEtnvkg</td>\n",
       "      <td>2010-07-05 00:00:00</td>\n",
       "      <td>W8CX2h_hmODWmgSJVbMifw</td>\n",
       "      <td>2</td>\n",
       "      <td>1</td>\n",
       "      <td>Jennifer</td>\n",
       "      <td>[Breakfast &amp; Brunch, Restaurants]</td>\n",
       "      <td>Morning Glory Cafe</td>\n",
       "      <td>33.390792</td>\n",
       "      <td>-112.012504</td>\n",
       "      <td>3.87156</td>\n",
       "      <td>109</td>\n",
       "      <td>3.702381</td>\n",
       "      <td>84</td>\n",
       "    </tr>\n",
       "    <tr>\n",
       "      <th>3</th>\n",
       "      <td>0bNXP9quoJEgyVZu9ipGgQ</td>\n",
       "      <td>9yKzy9PApeiPPOUJEtnvkg</td>\n",
       "      <td>2012-10-10 00:00:00</td>\n",
       "      <td>nYVQiPGeiwr7g5BSX7WDJg</td>\n",
       "      <td>3</td>\n",
       "      <td>9</td>\n",
       "      <td>Aileen</td>\n",
       "      <td>[Breakfast &amp; Brunch, Restaurants]</td>\n",
       "      <td>Morning Glory Cafe</td>\n",
       "      <td>33.390792</td>\n",
       "      <td>-112.012504</td>\n",
       "      <td>3.87156</td>\n",
       "      <td>109</td>\n",
       "      <td>3.180077</td>\n",
       "      <td>261</td>\n",
       "    </tr>\n",
       "    <tr>\n",
       "      <th>4</th>\n",
       "      <td>T7J9ae0wTskrI_Bgwp-4cA</td>\n",
       "      <td>9yKzy9PApeiPPOUJEtnvkg</td>\n",
       "      <td>2009-12-17 00:00:00</td>\n",
       "      <td>grZNCXAgd-OH8daA28R-2A</td>\n",
       "      <td>3</td>\n",
       "      <td>1</td>\n",
       "      <td>Jasmine</td>\n",
       "      <td>[Breakfast &amp; Brunch, Restaurants]</td>\n",
       "      <td>Morning Glory Cafe</td>\n",
       "      <td>33.390792</td>\n",
       "      <td>-112.012504</td>\n",
       "      <td>3.87156</td>\n",
       "      <td>109</td>\n",
       "      <td>3.343284</td>\n",
       "      <td>201</td>\n",
       "    </tr>\n",
       "  </tbody>\n",
       "</table>\n",
       "</div>"
      ],
      "text/plain": [
       "                  user_id             business_id                 date               review_id  stars  usefulvotes_review user_name                         categories            biz_name   latitude   longitude  business_avg  business_review_count  user_avg  user_review_count\n",
       "0  rLtl8ZkDX5vH5nAx9C3q5Q  9yKzy9PApeiPPOUJEtnvkg  2011-01-26 00:00:00  fWKvX83p0-ka4JS3dc6E5A      5                   5     Jason  [Breakfast & Brunch, Restaurants]  Morning Glory Cafe  33.390792 -112.012504       3.87156                    109  3.796954                197\n",
       "1  SBbftLzfYYKItOMFwOTIJg  9yKzy9PApeiPPOUJEtnvkg  2008-05-04 00:00:00  DASdFe-g0BgfN9J2tanStg      5                   1  Jennifer  [Breakfast & Brunch, Restaurants]  Morning Glory Cafe  33.390792 -112.012504       3.87156                    109  3.473684                 57\n",
       "2  mlBC3pN9GXlUUfQi1qBBZA  9yKzy9PApeiPPOUJEtnvkg  2010-07-05 00:00:00  W8CX2h_hmODWmgSJVbMifw      2                   1  Jennifer  [Breakfast & Brunch, Restaurants]  Morning Glory Cafe  33.390792 -112.012504       3.87156                    109  3.702381                 84\n",
       "3  0bNXP9quoJEgyVZu9ipGgQ  9yKzy9PApeiPPOUJEtnvkg  2012-10-10 00:00:00  nYVQiPGeiwr7g5BSX7WDJg      3                   9    Aileen  [Breakfast & Brunch, Restaurants]  Morning Glory Cafe  33.390792 -112.012504       3.87156                    109  3.180077                261\n",
       "4  T7J9ae0wTskrI_Bgwp-4cA  9yKzy9PApeiPPOUJEtnvkg  2009-12-17 00:00:00  grZNCXAgd-OH8daA28R-2A      3                   1   Jasmine  [Breakfast & Brunch, Restaurants]  Morning Glory Cafe  33.390792 -112.012504       3.87156                    109  3.343284                201"
      ]
     },
     "execution_count": 3,
     "metadata": {},
     "output_type": "execute_result"
    }
   ],
   "source": [
    "df = pd.read_csv(\"data/bigdf.csv\")\n",
    "df.head()"
   ]
  },
  {
   "cell_type": "markdown",
   "metadata": {},
   "source": [
    "## EDA"
   ]
  },
  {
   "cell_type": "code",
   "execution_count": 4,
   "metadata": {
    "collapsed": false
   },
   "outputs": [
    {
     "data": {
      "text/plain": [
       "user_id                   object\n",
       "business_id               object\n",
       "date                      object\n",
       "review_id                 object\n",
       "stars                      int64\n",
       "usefulvotes_review         int64\n",
       "user_name                 object\n",
       "categories                object\n",
       "biz_name                  object\n",
       "latitude                 float64\n",
       "longitude                float64\n",
       "business_avg             float64\n",
       "business_review_count      int64\n",
       "user_avg                 float64\n",
       "user_review_count          int64\n",
       "dtype: object"
      ]
     },
     "execution_count": 4,
     "metadata": {},
     "output_type": "execute_result"
    }
   ],
   "source": [
    "df.dtypes"
   ]
  },
  {
   "cell_type": "code",
   "execution_count": 5,
   "metadata": {
    "collapsed": false
   },
   "outputs": [
    {
     "data": {
      "text/plain": [
       "<matplotlib.text.Text at 0x11525d9e8>"
      ]
     },
     "execution_count": 5,
     "metadata": {},
     "output_type": "execute_result"
    },
    {
     "data": {
      "image/png": "[encoded data removed]",
      "text/plain": [
       "<matplotlib.figure.Figure at 0x11040e630>"
      ]
     },
     "metadata": {},
     "output_type": "display_data"
    }
   ],
   "source": [
    "#we need a series object...\n",
    "df_user_revcount = df.groupby('user_id').review_id.count()\n",
    "#bins is grouping on the x axis \n",
    "ax = df_user_revcount.hist(bins=50, log=True)  \n",
    "remove_border(ax)\n",
    "plt.xlabel(\"Reviews per user count\")\n",
    "plt.ylabel(\"No. of users giving this review count\")\n",
    "plt.grid(False)\n",
    "plt.grid(axis = 'y', color = 'white', linestyle = '-')\n",
    "plt.title(\"Revies per restaurant count\")"
   ]
  },
  {
   "cell_type": "code",
   "execution_count": 6,
   "metadata": {
    "collapsed": false
   },
   "outputs": [
    {
     "data": {
      "text/plain": [
       "<matplotlib.text.Text at 0x115dbaf28>"
      ]
     },
     "execution_count": 6,
     "metadata": {},
     "output_type": "execute_result"
    },
    {
     "data": {
      "image/png": "[encoded data removed]",
      "text/plain": [
       "<matplotlib.figure.Figure at 0x115264160>"
      ]
     },
     "metadata": {},
     "output_type": "display_data"
    }
   ],
   "source": [
    "df_business_count = df.groupby('business_id').review_id.count()\n",
    "ax = df_business_count.hist(bins = 50, log = True)\n",
    "remove_border(ax)\n",
    "plt.grid(False)\n",
    "plt.grid(axis = 'y', color = 'white', linestyle = '-')\n",
    "plt.xlabel(\"Reviews per business count\")\n",
    "plt.ylabel(\"No. of business getting this review count\")"
   ]
  },
  {
   "cell_type": "code",
   "execution_count": 7,
   "metadata": {
    "collapsed": false
   },
   "outputs": [
    {
     "data": {
      "text/plain": [
       "('Users', 34789, 'businesses', 4503)"
      ]
     },
     "execution_count": 7,
     "metadata": {},
     "output_type": "execute_result"
    }
   ],
   "source": [
    "\"Users\", len(df.user_id.unique()), \"businesses\", len(df.business_id.unique())"
   ]
  },
  {
   "cell_type": "markdown",
   "metadata": {},
   "source": [
    "#### There are more users than businesses!\n",
    "\n",
    "What we see is intuitive, that is, less number of reviews are given be less users, very few users are kind of dedicated reviewing the movies, what we can extract is for example, users having more interest in the movies. Same goes for the number of businesses, but what we can extract is, the businesses having more number of reviews are less which tells us that there are very few businesses which are good or which may be have good approaches? \n",
    "\n",
    "Now we'll compute the average - "
   ]
  },
  {
   "cell_type": "code",
   "execution_count": 8,
   "metadata": {
    "collapsed": false
   },
   "outputs": [
    {
     "data": {
      "text/plain": [
       "3.7414126802349332"
      ]
     },
     "execution_count": 8,
     "metadata": {},
     "output_type": "execute_result"
    }
   ],
   "source": [
    "#mean revies given by the users\n",
    "df.stars.mean()"
   ]
  },
  {
   "cell_type": "code",
   "execution_count": 9,
   "metadata": {
    "collapsed": false
   },
   "outputs": [
    {
     "data": {
      "text/plain": [
       "<matplotlib.text.Text at 0x116e89630>"
      ]
     },
     "execution_count": 9,
     "metadata": {},
     "output_type": "execute_result"
    },
    {
     "data": {
      "image/png": "[encoded data removed]",
      "text/plain": [
       "<matplotlib.figure.Figure at 0x115484e80>"
      ]
     },
     "metadata": {},
     "output_type": "display_data"
    }
   ],
   "source": [
    "#important plotting strategy\n",
    "stars = df.stars \n",
    "ax=stars.hist(bins=5)\n",
    "remove_border(ax)\n",
    "plt.xlabel(\"Star rating\")\n",
    "plt.grid(False)\n",
    "plt.grid(axis = 'y', color ='white', linestyle='-')\n",
    "plt.title(\"Star ratings over all reviews\")"
   ]
  },
  {
   "cell_type": "markdown",
   "metadata": {},
   "source": [
    "What we see is that most of the reviews are between 3.5 and 4 which is again, intuitive."
   ]
  },
  {
   "cell_type": "code",
   "execution_count": 10,
   "metadata": {
    "collapsed": true
   },
   "outputs": [],
   "source": [
    "def recompute_frame(ldf):\n",
    "    \"\"\"\n",
    "    takes a dataframe ldf, makes a copy of it, and returns the copy\n",
    "    with all averages and review counts recomputed\n",
    "    this is used when a frame is subsetted.\n",
    "    \"\"\"\n",
    "    ldfu=ldf.groupby('user_id')\n",
    "    ldfb=ldf.groupby('business_id')\n",
    "    user_avg=ldfu.stars.mean()\n",
    "    user_review_count=ldfu.review_id.count()\n",
    "    business_avg=ldfb.stars.mean()\n",
    "    business_review_count=ldfb.review_id.count()\n",
    "    #copy the dataframe\n",
    "    nldf=ldf.copy()\n",
    "    nldf.set_index(['business_id'], inplace=True)\n",
    "    nldf['business_avg']=business_avg\n",
    "    nldf['business_review_count']=business_review_count\n",
    "    nldf.reset_index(inplace=True)\n",
    "    nldf.set_index(['user_id'], inplace=True)\n",
    "    nldf['user_avg']=user_avg\n",
    "    nldf['user_review_count']=user_review_count\n",
    "    nldf.reset_index(inplace=True)\n",
    "    return nldf"
   ]
  },
  {
   "cell_type": "code",
   "execution_count": 11,
   "metadata": {
    "collapsed": false
   },
   "outputs": [
    {
     "data": {
      "text/html": [
       "<div>\n",
       "<table border=\"1\" class=\"dataframe\">\n",
       "  <thead>\n",
       "    <tr style=\"text-align: right;\">\n",
       "      <th></th>\n",
       "      <th>user_id</th>\n",
       "      <th>business_id</th>\n",
       "      <th>date</th>\n",
       "      <th>review_id</th>\n",
       "      <th>stars</th>\n",
       "      <th>usefulvotes_review</th>\n",
       "      <th>user_name</th>\n",
       "      <th>categories</th>\n",
       "      <th>biz_name</th>\n",
       "      <th>latitude</th>\n",
       "      <th>longitude</th>\n",
       "      <th>business_avg</th>\n",
       "      <th>business_review_count</th>\n",
       "      <th>user_avg</th>\n",
       "      <th>user_review_count</th>\n",
       "    </tr>\n",
       "  </thead>\n",
       "  <tbody>\n",
       "    <tr>\n",
       "      <th>0</th>\n",
       "      <td>rLtl8ZkDX5vH5nAx9C3q5Q</td>\n",
       "      <td>eIxSLxzIlfExI6vgAbn2JA</td>\n",
       "      <td>2011-05-12 00:00:00</td>\n",
       "      <td>z4G1g3VcdfigCUtVDFRL1w</td>\n",
       "      <td>4</td>\n",
       "      <td>5</td>\n",
       "      <td>Jason</td>\n",
       "      <td>[Burgers, Hot Dogs, American (New), Restaurants]</td>\n",
       "      <td>Lobbys Beef Burgers Dogs</td>\n",
       "      <td>33.39477</td>\n",
       "      <td>-111.908894</td>\n",
       "      <td>4.04</td>\n",
       "      <td>25</td>\n",
       "      <td>3.709677</td>\n",
       "      <td>62</td>\n",
       "    </tr>\n",
       "    <tr>\n",
       "      <th>1</th>\n",
       "      <td>C6IOtaaYdLIT5fWd7ZYIuA</td>\n",
       "      <td>eIxSLxzIlfExI6vgAbn2JA</td>\n",
       "      <td>2011-04-12 00:00:00</td>\n",
       "      <td>480M-xDpRaA1gCVCqIG4WA</td>\n",
       "      <td>4</td>\n",
       "      <td>14</td>\n",
       "      <td>Daren</td>\n",
       "      <td>[Burgers, Hot Dogs, American (New), Restaurants]</td>\n",
       "      <td>Lobbys Beef Burgers Dogs</td>\n",
       "      <td>33.39477</td>\n",
       "      <td>-111.908894</td>\n",
       "      <td>4.04</td>\n",
       "      <td>25</td>\n",
       "      <td>4.000000</td>\n",
       "      <td>15</td>\n",
       "    </tr>\n",
       "    <tr>\n",
       "      <th>2</th>\n",
       "      <td>mlBC3pN9GXlUUfQi1qBBZA</td>\n",
       "      <td>eIxSLxzIlfExI6vgAbn2JA</td>\n",
       "      <td>2011-09-17 00:00:00</td>\n",
       "      <td>q_T6FtScTul_yYIGyrgTxA</td>\n",
       "      <td>3</td>\n",
       "      <td>0</td>\n",
       "      <td>Jennifer</td>\n",
       "      <td>[Burgers, Hot Dogs, American (New), Restaurants]</td>\n",
       "      <td>Lobbys Beef Burgers Dogs</td>\n",
       "      <td>33.39477</td>\n",
       "      <td>-111.908894</td>\n",
       "      <td>4.04</td>\n",
       "      <td>25</td>\n",
       "      <td>3.750000</td>\n",
       "      <td>12</td>\n",
       "    </tr>\n",
       "    <tr>\n",
       "      <th>3</th>\n",
       "      <td>T7J9ae0wTskrI_Bgwp-4cA</td>\n",
       "      <td>eIxSLxzIlfExI6vgAbn2JA</td>\n",
       "      <td>2011-03-09 00:00:00</td>\n",
       "      <td>YPKedK7JuKC36cDAKuDGTQ</td>\n",
       "      <td>3</td>\n",
       "      <td>2</td>\n",
       "      <td>Jasmine</td>\n",
       "      <td>[Burgers, Hot Dogs, American (New), Restaurants]</td>\n",
       "      <td>Lobbys Beef Burgers Dogs</td>\n",
       "      <td>33.39477</td>\n",
       "      <td>-111.908894</td>\n",
       "      <td>4.04</td>\n",
       "      <td>25</td>\n",
       "      <td>3.696970</td>\n",
       "      <td>33</td>\n",
       "    </tr>\n",
       "    <tr>\n",
       "      <th>4</th>\n",
       "      <td>nbofxFWHORebBHh10OgYLA</td>\n",
       "      <td>eIxSLxzIlfExI6vgAbn2JA</td>\n",
       "      <td>2011-07-28 00:00:00</td>\n",
       "      <td>y7yBnfbPxZJ_L93tnxMP3g</td>\n",
       "      <td>2</td>\n",
       "      <td>1</td>\n",
       "      <td>Christopher</td>\n",
       "      <td>[Burgers, Hot Dogs, American (New), Restaurants]</td>\n",
       "      <td>Lobbys Beef Burgers Dogs</td>\n",
       "      <td>33.39477</td>\n",
       "      <td>-111.908894</td>\n",
       "      <td>4.04</td>\n",
       "      <td>25</td>\n",
       "      <td>3.833333</td>\n",
       "      <td>12</td>\n",
       "    </tr>\n",
       "  </tbody>\n",
       "</table>\n",
       "</div>"
      ],
      "text/plain": [
       "                  user_id             business_id                 date               review_id  stars  usefulvotes_review    user_name                                        categories                  biz_name  latitude   longitude  business_avg  business_review_count  user_avg  user_review_count\n",
       "0  rLtl8ZkDX5vH5nAx9C3q5Q  eIxSLxzIlfExI6vgAbn2JA  2011-05-12 00:00:00  z4G1g3VcdfigCUtVDFRL1w      4                   5        Jason  [Burgers, Hot Dogs, American (New), Restaurants]  Lobbys Beef Burgers Dogs  33.39477 -111.908894          4.04                     25  3.709677                 62\n",
       "1  C6IOtaaYdLIT5fWd7ZYIuA  eIxSLxzIlfExI6vgAbn2JA  2011-04-12 00:00:00  480M-xDpRaA1gCVCqIG4WA      4                  14        Daren  [Burgers, Hot Dogs, American (New), Restaurants]  Lobbys Beef Burgers Dogs  33.39477 -111.908894          4.04                     25  4.000000                 15\n",
       "2  mlBC3pN9GXlUUfQi1qBBZA  eIxSLxzIlfExI6vgAbn2JA  2011-09-17 00:00:00  q_T6FtScTul_yYIGyrgTxA      3                   0     Jennifer  [Burgers, Hot Dogs, American (New), Restaurants]  Lobbys Beef Burgers Dogs  33.39477 -111.908894          4.04                     25  3.750000                 12\n",
       "3  T7J9ae0wTskrI_Bgwp-4cA  eIxSLxzIlfExI6vgAbn2JA  2011-03-09 00:00:00  YPKedK7JuKC36cDAKuDGTQ      3                   2      Jasmine  [Burgers, Hot Dogs, American (New), Restaurants]  Lobbys Beef Burgers Dogs  33.39477 -111.908894          4.04                     25  3.696970                 33\n",
       "4  nbofxFWHORebBHh10OgYLA  eIxSLxzIlfExI6vgAbn2JA  2011-07-28 00:00:00  y7yBnfbPxZJ_L93tnxMP3g      2                   1  Christopher  [Burgers, Hot Dogs, American (New), Restaurants]  Lobbys Beef Burgers Dogs  33.39477 -111.908894          4.04                     25  3.833333                 12"
      ]
     },
     "execution_count": 11,
     "metadata": {},
     "output_type": "execute_result"
    }
   ],
   "source": [
    "#smaller dataset meeting some of the conditions \n",
    "smallidf = df[(df.user_review_count > 60) & (df.business_review_count > 150)]\n",
    "smalldf = recompute_frame(smallidf)\n",
    "smalldf.head()"
   ]
  },
  {
   "cell_type": "code",
   "execution_count": 12,
   "metadata": {
    "collapsed": false
   },
   "outputs": [
    {
     "data": {
      "text/plain": [
       "(240, 172)"
      ]
     },
     "execution_count": 12,
     "metadata": {},
     "output_type": "execute_result"
    }
   ],
   "source": [
    "smalldf.user_id.unique().shape[0], smalldf.business_id.unique().shape[0]"
   ]
  },
  {
   "cell_type": "markdown",
   "metadata": {},
   "source": [
    "The number of users and the number of businesses have drastically reduced which means that mostly the users tend to give less than total 60 reivies on the site... "
   ]
  },
  {
   "cell_type": "code",
   "execution_count": 13,
   "metadata": {
    "collapsed": false
   },
   "outputs": [
    {
     "data": {
      "text/plain": [
       "3.867639902676399"
      ]
     },
     "execution_count": 13,
     "metadata": {},
     "output_type": "execute_result"
    }
   ],
   "source": [
    "smalldf.stars.mean()\n",
    "#the mean hasn't changed much though"
   ]
  },
  {
   "cell_type": "code",
   "execution_count": 14,
   "metadata": {
    "collapsed": false
   },
   "outputs": [
    {
     "data": {
      "text/plain": [
       "<matplotlib.text.Text at 0x1165fc160>"
      ]
     },
     "execution_count": 14,
     "metadata": {},
     "output_type": "execute_result"
    },
    {
     "data": {
      "image/png": "[encoded data removed]",
      "text/plain": [
       "<matplotlib.figure.Figure at 0x1165df828>"
      ]
     },
     "metadata": {},
     "output_type": "display_data"
    },
    {
     "data": {
      "image/png": "[encoded data removed]",
      "text/plain": [
       "<matplotlib.figure.Figure at 0x116e97128>"
      ]
     },
     "metadata": {},
     "output_type": "display_data"
    }
   ],
   "source": [
    "#what we'll get is a less sparse histogram\n",
    "#we need a series object...\n",
    "smalldf_user_revcount = smalldf.groupby('user_id').review_id.count()\n",
    "#bins is grouping on the x axis \n",
    "plt.figure()\n",
    "ax = smalldf_user_revcount.hist()  \n",
    "remove_border(ax)\n",
    "plt.xlabel(\"Reviews per user count\")\n",
    "plt.ylabel(\"No. of users giving this review count\")\n",
    "plt.grid(False)\n",
    "plt.grid(axis = 'y', color = 'white', linestyle = '-')\n",
    "plt.title(\"Revies per restaurant count\")\n",
    "plt.figure()\n",
    "smalldf_business_count = smalldf.groupby('business_id').business_review_count.count()\n",
    "ax = smalldf_business_count.hist()\n",
    "remove_border(ax)\n",
    "plt.grid(False)\n",
    "plt.grid(axis = 'y', color = 'white', linestyle = '-')\n",
    "plt.xlabel(\"Reviews per business count\")\n",
    "plt.ylabel(\"No. of business getting this review count\")"
   ]
  },
  {
   "cell_type": "code",
   "execution_count": 15,
   "metadata": {
    "collapsed": false
   },
   "outputs": [
    {
     "data": {
      "text/plain": [
       "3.867639902676399"
      ]
     },
     "execution_count": 15,
     "metadata": {},
     "output_type": "execute_result"
    },
    {
     "data": {
      "image/png": "[encoded data removed]",
      "text/plain": [
       "<matplotlib.figure.Figure at 0x116fe98d0>"
      ]
     },
     "metadata": {},
     "output_type": "display_data"
    },
    {
     "data": {
      "image/png": "[encoded data removed]",
      "text/plain": [
       "<matplotlib.figure.Figure at 0x116fe9a58>"
      ]
     },
     "metadata": {},
     "output_type": "display_data"
    }
   ],
   "source": [
    "#the reviews being provided by the users\n",
    "avg_usr_rating = smalldf.groupby('user_id').stars.mean()\n",
    "ax = avg_usr_rating.hist(bins = 5)\n",
    "plt.figure()\n",
    "#the number of businesses receiving that much reviews vs the review.\n",
    "avg_business_rating = smalldf.groupby('business_id').stars.mean()\n",
    "ax = avg_business_rating.hist(bins = 5)\n",
    "smalldf.stars.mean()"
   ]
  },
  {
   "cell_type": "markdown",
   "metadata": {},
   "source": [
    "## Common Support"
   ]
  },
  {
   "cell_type": "code",
   "execution_count": 16,
   "metadata": {
    "collapsed": false
   },
   "outputs": [
    {
     "name": "stdout",
     "output_type": "stream",
     "text": [
      "Mean support is: 6.84679722562\n"
     ]
    },
    {
     "data": {
      "text/plain": [
       "(array([  7.02000000e+03,   4.98700000e+03,   1.79400000e+03,\n",
       "          5.90000000e+02,   1.95000000e+02,   7.60000000e+01,\n",
       "          2.20000000e+01,   1.00000000e+01,   1.00000000e+01,\n",
       "          2.00000000e+00]),\n",
       " array([  0. ,   5.1,  10.2,  15.3,  20.4,  25.5,  30.6,  35.7,  40.8,\n",
       "         45.9,  51. ]),\n",
       " <a list of 10 Patch objects>)"
      ]
     },
     "execution_count": 16,
     "metadata": {},
     "output_type": "execute_result"
    },
    {
     "data": {
      "image/png": "[encoded data removed]",
      "text/plain": [
       "<matplotlib.figure.Figure at 0x11671eba8>"
      ]
     },
     "metadata": {},
     "output_type": "display_data"
    }
   ],
   "source": [
    "# evaluating the common support - means the number of users giving rating to the same \n",
    "# business or rest...\n",
    "restaurants = smalldf.business_id.unique()\n",
    "supports = []\n",
    "for i, rest1 in enumerate(restaurants):\n",
    "    for j, rest2 in enumerate(restaurants):\n",
    "        if i < j:\n",
    "            user_1 = smalldf[smalldf.business_id == rest1].user_id.unique()\n",
    "            user_2 = smalldf[smalldf.business_id == rest2].user_id.unique()\n",
    "            common_reviewers = set(user_1).intersection(user_2)\n",
    "            supports.append(len(common_reviewers))\n",
    "print (\"Mean support is:\",np.mean(supports))\n",
    "plt.hist(supports)       "
   ]
  },
  {
   "cell_type": "markdown",
   "metadata": {},
   "source": [
    "As you can see, even though we chose a subset of the dataframe in which every restaurant had 150 reviews and every user had atleast made 60, the common support of most pairs of restaurants is really low, indeed less than 10!."
   ]
  },
  {
   "cell_type": "markdown",
   "metadata": {},
   "source": [
    "### Calculating Similarity\n",
    "\n",
    "What we are actually doing is calculating the similarity on the basis of to what degree the common users have rated the restaurants, and we do this by using the pearson's coefficient. "
   ]
  },
  {
   "cell_type": "code",
   "execution_count": 17,
   "metadata": {
    "collapsed": true
   },
   "outputs": [],
   "source": [
    "#pearson coefficient or pearson product moment correlation(PPMC) is for measuring \n",
    "#the correlation between two variables is - covariance(X, Y) / std_dev(X) * std_dev(Y)\n",
    "from scipy.stats.stats import pearsonr\n",
    "def pearson_sim(rest1_reviews, rest2_reviews, n_common):\n",
    "    \"\"\"\n",
    "    Given a subframe of restaurant 1 reviews and a subframe of restaurant 2 reviews,\n",
    "    where the reviewers are those who have reviewed both restaurants, return \n",
    "    the pearson correlation coefficient between the user average subtracted ratings.\n",
    "    The case for zero common reviewers is handled separately. Its\n",
    "    ok to return a NaN if any of the individual variances are 0.\n",
    "    \"\"\"\n",
    "    if n_common==0:\n",
    "        rho=0.\n",
    "    else:\n",
    "        diff1=rest1_reviews['stars']-rest1_reviews['user_avg']\n",
    "        diff2=rest2_reviews['stars']-rest2_reviews['user_avg']\n",
    "        rho=pearsonr(diff1, diff2)[0]\n",
    "    return rho"
   ]
  },
  {
   "cell_type": "code",
   "execution_count": 18,
   "metadata": {
    "collapsed": true
   },
   "outputs": [],
   "source": [
    "def get_restaurant_reviews(restaurant_id, df, set_of_users):\n",
    "    \"\"\"\n",
    "    given a resturant id and a set of reviewers, return the sub-dataframe of their\n",
    "    reviews.\n",
    "    \"\"\"\n",
    "    #isin returns a boolean matrix checking whether the values are in the \n",
    "    #dataframe or not.\n",
    "    #so get the users who have rated that business\n",
    "    mask = (df.user_id.isin(set_of_users)) & (df.business_id==restaurant_id)\n",
    "    reviews = df[mask]\n",
    "    #remove the duplicate items\n",
    "    reviews = reviews[reviews.user_id.duplicated()==False]\n",
    "    #return the cleaned dataframe\n",
    "    return reviews"
   ]
  },
  {
   "cell_type": "code",
   "execution_count": 19,
   "metadata": {
    "collapsed": false
   },
   "outputs": [],
   "source": [
    "#for checking the degree of similarity between two restaurants  \n",
    "def calculate_similarity(rest1, rest2, df, similarity_func):\n",
    "    #get the users who have reviewed both the restaurants\n",
    "    users_rev_1 = df[df.business_id == rest1].user_id.unique()\n",
    "    users_rev_2 = df[df.business_id == rest2].user_id.unique()\n",
    "    users_inter = set(users_rev_1).intersection(users_rev_2)\n",
    "    #now get the subdataframes containing info about those users\n",
    "    get_rest1 = get_restaurant_reviews(rest1, df, users_inter)\n",
    "    get_rest2 = get_restaurant_reviews(rest2, df, users_inter)\n",
    "    #calculating the similarity using pearsons coefficient\n",
    "    calc_sim = similarity_func(get_rest1, get_rest2, len(get_rest1))\n",
    "    if np.isnan(calc_sim):\n",
    "        return (0, len(get_rest1))\n",
    "    return (calc_sim, len(get_rest1))"
   ]
  },
  {
   "cell_type": "code",
   "execution_count": 20,
   "metadata": {
    "collapsed": false
   },
   "outputs": [
    {
     "data": {
      "text/plain": [
       "(0.20021785257950644, 5)"
      ]
     },
     "execution_count": 20,
     "metadata": {},
     "output_type": "execute_result"
    }
   ],
   "source": [
    "#testing, testing 1..2..3..\n",
    "calculate_similarity(\"eIxSLxzIlfExI6vgAbn2JA\", \"bc-lE-wGVAsUrX-kJhtY-Q\", smalldf, pearson_sim)"
   ]
  },
  {
   "cell_type": "markdown",
   "metadata": {},
   "source": [
    "Our functions are ready, now we'll create the database storing the pairwise similarity of all the restaurants"
   ]
  },
  {
   "cell_type": "markdown",
   "metadata": {},
   "source": [
    "### Making a database of similarities"
   ]
  },
  {
   "cell_type": "code",
   "execution_count": 21,
   "metadata": {
    "collapsed": true
   },
   "outputs": [],
   "source": [
    "class Database:\n",
    "    \"A class representing a database of similaries and common supports\"\n",
    "    \n",
    "    def __init__(self, df):\n",
    "        \"the constructor, takes a reviews dataframe like smalldf as its argument\"\n",
    "        database={}\n",
    "        self.df=df\n",
    "        self.uniquebizids={v:k for (k,v) in enumerate(df.business_id.unique())}\n",
    "        keys=self.uniquebizids.keys()\n",
    "        l_keys=len(keys)\n",
    "        self.database_sim=np.zeros([l_keys,l_keys])\n",
    "        self.database_sup=np.zeros([l_keys, l_keys], dtype=np.int)\n",
    "        \n",
    "    def populate_by_calculating(self, similarity_func):\n",
    "        \"\"\"\n",
    "        a populator for every pair of businesses in df. takes similarity_func like\n",
    "        pearson_sim as argument\n",
    "        \"\"\"\n",
    "        items=self.uniquebizids.items()\n",
    "        for b1, i1 in items:\n",
    "            for b2, i2 in items:\n",
    "                if i1 < i2:\n",
    "                    sim, nsup=calculate_similarity(b1, b2, self.df, similarity_func)\n",
    "                    self.database_sim[i1][i2]=sim\n",
    "                    self.database_sim[i2][i1]=sim\n",
    "                    self.database_sup[i1][i2]=nsup\n",
    "                    self.database_sup[i2][i1]=nsup\n",
    "                elif i1==i2:\n",
    "                    nsup=self.df[self.df.business_id==b1].user_id.count()\n",
    "                    self.database_sim[i1][i1]=1.\n",
    "                    self.database_sup[i1][i1]=nsup\n",
    "                    \n",
    "\n",
    "    def get(self, b1, b2):\n",
    "        \"returns a tuple of similarity,common_support given two business ids\"\n",
    "        sim=self.database_sim[self.uniquebizids[b1]][self.uniquebizids[b2]]\n",
    "        nsup=self.database_sup[self.uniquebizids[b1]][self.uniquebizids[b2]]\n",
    "        return (sim, nsup)\n",
    "    "
   ]
  },
  {
   "cell_type": "code",
   "execution_count": 22,
   "metadata": {
    "collapsed": false
   },
   "outputs": [],
   "source": [
    "db = Database(smalldf)\n",
    "db.populate_by_calculating(pearson_sim)"
   ]
  },
  {
   "cell_type": "code",
   "execution_count": 23,
   "metadata": {
    "collapsed": false
   },
   "outputs": [
    {
     "data": {
      "text/plain": [
       "(0.39904554525734559, 7)"
      ]
     },
     "execution_count": 23,
     "metadata": {},
     "output_type": "execute_result"
    }
   ],
   "source": [
    "#testing....\n",
    "db.get(\"z3yFuLVrmH-3RJruPEMYKw\", \"zruUQvFySeXyEd7_rQixBg\")"
   ]
  },
  {
   "cell_type": "markdown",
   "metadata": {},
   "source": [
    "### K-Nearest restaurants (in similarity)"
   ]
  },
  {
   "cell_type": "markdown",
   "metadata": {},
   "source": [
    "Now we are again brought down to think like a bayesian... Think about the case in which there are 4 common reviewers and another case in which there are 40.In the former case, we might get a artificially high similarity based on the tastes of just this user, and thus we must reduce its importance in the nearest-neighbor calculation. In the latter case, we would get a much more unbiased estimator of the similarity of the two restaurants.\n",
    "\n",
    "So solve this problem we can shrink the PPMC(regilarization)"
   ]
  },
  {
   "cell_type": "code",
   "execution_count": 24,
   "metadata": {
    "collapsed": true
   },
   "outputs": [],
   "source": [
    "def shrunk_sim(sim, n_common, reg=3.):\n",
    "    \"takes a similarity and shrinks it down by using the regularizer\"\n",
    "    #more is the shrinkage more is the effect.\n",
    "    ssim=(n_common*sim)/(n_common+reg)\n",
    "    return ssim"
   ]
  },
  {
   "cell_type": "code",
   "execution_count": 25,
   "metadata": {
    "collapsed": true
   },
   "outputs": [],
   "source": [
    "from operator import itemgetter\n",
    "def knearest(restaurant_id, set_of_restaurants, dbase, k = 3, reg = 3.):\n",
    "    sort_neighbors = []\n",
    "    for i in set_of_restaurants:\n",
    "        if i != restaurant_id:\n",
    "            #sim is the coefficient and nc is the number of common users \n",
    "            sim, nc = dbase.get(restaurant_id, i)\n",
    "            #regularisation\n",
    "            shrunken = shrunk_sim(sim, nc, reg = reg)\n",
    "            #putting in the list\n",
    "            sort_neighbors.append((i, shrunken, nc))\n",
    "    #print (sort_neighbors)        \n",
    "    similars = sorted(sort_neighbors, key=itemgetter(1), reverse=True)\n",
    "    return similars[:k]"
   ]
  },
  {
   "cell_type": "code",
   "execution_count": 26,
   "metadata": {
    "collapsed": true
   },
   "outputs": [],
   "source": [
    "testbizid=\"eIxSLxzIlfExI6vgAbn2JA\"\n",
    "testbizid2=\"L-uPZxooP_ziXCtRrWi8Pw\""
   ]
  },
  {
   "cell_type": "code",
   "execution_count": 27,
   "metadata": {
    "collapsed": true
   },
   "outputs": [],
   "source": [
    "def biznamefromid(df, theid):\n",
    "    return df['biz_name'][df['business_id']==theid].values[0]\n",
    "def usernamefromid(df, theid):\n",
    "    return df['user_name'][df['user_id']==theid].values[0]"
   ]
  },
  {
   "cell_type": "code",
   "execution_count": 28,
   "metadata": {
    "collapsed": false
   },
   "outputs": [
    {
     "name": "stdout",
     "output_type": "stream",
     "text": [
      "eIxSLxzIlfExI6vgAbn2JA Lobbys Beef Burgers Dogs\n",
      "L-uPZxooP_ziXCtRrWi8Pw Café Monarch\n"
     ]
    }
   ],
   "source": [
    "print (testbizid, biznamefromid(smalldf,testbizid))\n",
    "print (testbizid2, biznamefromid(smalldf, testbizid2))"
   ]
  },
  {
   "cell_type": "code",
   "execution_count": 29,
   "metadata": {
    "collapsed": false
   },
   "outputs": [
    {
     "name": "stdout",
     "output_type": "stream",
     "text": [
      "For  Lobbys Beef Burgers Dogs , top matches are:\n",
      "0 La Condesa Gourmet Taco Shop | Sim 0.598714448434 | Support 6\n",
      "1 Citizen Public House | Sim 0.571428571429 | Support 4\n",
      "2 FnB | Sim 0.527129890943 | Support 5\n",
      "3 Defalco's Italian Grocery | Sim 0.519456555658 | Support 6\n",
      "4 Republic Ramen + Noodles | Sim 0.519140146937 | Support 5\n",
      "5 unPhogettable | Sim 0.5 | Support 3\n",
      "6 Haus Murphy's | Sim 0.467637235308 | Support 3\n"
     ]
    }
   ],
   "source": [
    "#the reason why I was not getting correct results was \n",
    "#that I had not set NaN to 0 in the database but why the error?\n",
    "tops=knearest(testbizid, smalldf.business_id.unique(), db, k=7, reg=3.)\n",
    "print (\"For \",biznamefromid(smalldf, testbizid), \", top matches are:\")\n",
    "for i, (biz_id, sim, nc) in enumerate(tops):\n",
    "    print (i,biznamefromid(smalldf,biz_id), \"| Sim\", sim, \"| Support\",nc)"
   ]
  },
  {
   "cell_type": "code",
   "execution_count": 30,
   "metadata": {
    "collapsed": false
   },
   "outputs": [
    {
     "name": "stdout",
     "output_type": "stream",
     "text": [
      "For  Café Monarch , top matches are:\n",
      "0 Postino Arcadia | Sim 0.625 | Support 5\n",
      "1 The Main Ingredient Ale House And Café | Sim 0.571428571429 | Support 4\n",
      "2 Brio Tuscan Grille | Sim 0.571428571429 | Support 4\n",
      "3 Kazimierz World Wine Bar | Sim 0.5 | Support 3\n",
      "4 Harlow's Cafe | Sim 0.5 | Support 3\n",
      "5 The Fry Bread House | Sim 0.5 | Support 3\n",
      "6 Cien Agaves Tacos & Tequila | Sim 0.5 | Support 3\n"
     ]
    }
   ],
   "source": [
    "tops2=knearest(testbizid2, smalldf.business_id.unique(), db, k=7, reg=3.)\n",
    "print (\"For \",biznamefromid(smalldf, testbizid2), \", top matches are:\")\n",
    "for i, (biz_id, sim, nc) in enumerate(tops2):\n",
    "    print (i,biznamefromid(smalldf,biz_id), \"| Sim\", sim, \"| Support\",nc)"
   ]
  },
  {
   "cell_type": "code",
   "execution_count": 31,
   "metadata": {
    "collapsed": false
   },
   "outputs": [
    {
     "data": {
      "text/plain": [
       "'zp713qNhx8d9KCJJnrw1xA'"
      ]
     },
     "execution_count": 31,
     "metadata": {},
     "output_type": "execute_result"
    }
   ],
   "source": [
    "######-----------TOTAL-SHIT------------######\n",
    "getbusid = smalldf[smalldf.biz_name == 'La Condesa Gourmet Taco Shop'].business_id.values[0]\n",
    "sim, nc = db.get(getbusid, testbizid)\n",
    "shrunk_sim(sim, nc)\n",
    "getbusid\n"
   ]
  },
  {
   "cell_type": "code",
   "execution_count": 32,
   "metadata": {
    "collapsed": false
   },
   "outputs": [
    {
     "name": "stdout",
     "output_type": "stream",
     "text": [
      "For user Vern top choices are:\n"
     ]
    },
    {
     "data": {
      "text/plain": [
       "['Tee Pee Mexican Food',\n",
       " 'Local Breeze',\n",
       " \"Carly's Bistro\",\n",
       " 'District American Kitchen and Wine Bar',\n",
       " 'Sonora Mesquite Grill']"
      ]
     },
     "execution_count": 32,
     "metadata": {},
     "output_type": "execute_result"
    }
   ],
   "source": [
    "def get_user_top_choices(user_id, df, numchoices=5):\n",
    "    \"get the sorted top 5 restaurants for a user by the star rating the user gave them\"\n",
    "    udf=df[df.user_id==user_id][['business_id','stars']].sort_values(by = 'stars', ascending=False).head(numchoices)\n",
    "    return udf\n",
    "testuserid=\"7cR92zkDv4W3kqzii6axvg\"\n",
    "print (\"For user\", usernamefromid(smalldf,testuserid), \"top choices are:\" )\n",
    "bizs=get_user_top_choices(testuserid, smalldf)['business_id'].values\n",
    "[biznamefromid(smalldf, biz_id) for biz_id in bizs]"
   ]
  },
  {
   "cell_type": "code",
   "execution_count": 33,
   "metadata": {
    "collapsed": true
   },
   "outputs": [],
   "source": [
    "def get_top_recos_for_user(userid, df, dbase, n, k, reg = 3.):\n",
    "    #getting the top choices by that specific user \n",
    "    top_res_for_user = get_user_top_choices(userid, df)['business_id'].values\n",
    "    final_tops = []\n",
    "    rated_by_user=df[df.user_id==userid].business_id.values\n",
    "    for business in top_res_for_user:\n",
    "        knear = knearest(business, smalldf.business_id.unique(), db, k = 7, reg = 3.)\n",
    "        for i in knear:\n",
    "            if i[0] not in rated_by_user:\n",
    "                final_tops.append(i)\n",
    "    #getting the unique ids             \n",
    "    tops_bizids = [] \n",
    "    ids = [i[0] for i in final_tops]\n",
    "    uids = {k : 0 for k in list(set(ids))}\n",
    "    for j in final_tops:\n",
    "        if uids[j[0]] == 0:\n",
    "            tops_bizids.append(j)\n",
    "            uids[j[0]] == 1\n",
    "    tops = []\n",
    "    for biz_id, pr, ncom in tops_bizids:\n",
    "        biz_avg = df[df.business_id == biz_id].stars.mean()\n",
    "        tops.append((biz_id, biz_avg))\n",
    "    tops = sorted(tops, key = itemgetter(1), reverse = True)    \n",
    "    if n < len(tops):\n",
    "        return tops[0:n]\n",
    "    else:\n",
    "        return tops"
   ]
  },
  {
   "cell_type": "code",
   "execution_count": 34,
   "metadata": {
    "collapsed": false
   },
   "outputs": [
    {
     "name": "stdout",
     "output_type": "stream",
     "text": [
      "For user Vern the top recommendations are:\n",
      "Rokerij | Average Rating | 4.37931034483\n",
      "Wildfish Seafood Grille | Average Rating | 4.29411764706\n",
      "Defalco's Italian Grocery | Average Rating | 4.23255813953\n",
      "Cornish Pasty Company | Average Rating | 4.20689655172\n",
      "Pappadeaux Seafood Kitchen | Average Rating | 4.18518518519\n"
     ]
    }
   ],
   "source": [
    "print (\"For user\", usernamefromid(smalldf,testuserid), \"the top recommendations are:\")\n",
    "toprecos=get_top_recos_for_user(testuserid, smalldf, db, n=5, k=7, reg=3.)\n",
    "for biz_id, biz_avg in toprecos:\n",
    "    print (biznamefromid(smalldf,biz_id), \"| Average Rating |\", biz_avg)"
   ]
  },
  {
   "cell_type": "markdown",
   "metadata": {},
   "source": [
    "So this was a simple recommendation engine taking the info of what the user has rated and recommending using k neraest neighbors on the basis of pearson's coefficient"
   ]
  },
  {
   "cell_type": "markdown",
   "metadata": {},
   "source": [
    "### A user based recommender with predicted ratings"
   ]
  },
  {
   "cell_type": "code",
   "execution_count": 35,
   "metadata": {
    "collapsed": true
   },
   "outputs": [],
   "source": [
    "def knearest_amongst_userrated(restaurant_id, user_id, df, dbase, k = 7, reg = 3.):\n",
    "    dfuser=df[df.user_id==user_id]\n",
    "    bizsuserhasrated=dfuser.business_id.unique()\n",
    "    return knearest(restaurant_id, bizsuserhasrated, dbase, k=k, reg=reg)"
   ]
  },
  {
   "cell_type": "code",
   "execution_count": 36,
   "metadata": {
    "collapsed": false
   },
   "outputs": [],
   "source": [
    "def rating(df, dbase, restaurant_id, user_id, k = 7, reg = 3.):\n",
    "    \"\"\"The concept here is simple, we get the baseline rating\n",
    "    and add some quantity, (from the formula above) of the rating \n",
    "    based on the knearest neighbor restaurants rated by the user.\n",
    "    \"\"\"\n",
    "    ######------here I encountered the error!!------######\n",
    "    kn_users = knearest_amongst_userrated(restaurant_id, user_id, df, dbase, k = k, reg = reg)\n",
    "    #print (kn_users)\n",
    "    rest_mean = df[df.business_id == restaurant_id].business_avg.values[0]\n",
    "    user_mean = df[df.user_id == user_id].user_avg.values[0]\n",
    "    mu = df.stars.mean()\n",
    "    baseline = user_mean + rest_mean - mu\n",
    "    upscore = 0\n",
    "    score = 0\n",
    "    #getting the k nearsest neighbors and predicted the rating.\n",
    "    for id_, sim, ncom in kn_users:\n",
    "        score += sim\n",
    "        basln = df[(df.user_id == user_id) & (df.business_id == id_)].business_avg.values[0]\n",
    "        stars = df[(df.user_id == user_id) & (df.business_id == id_)].stars.values[0]\n",
    "        upscore += sim * (stars - (basln + user_mean - mu))\n",
    "    if score == 0:\n",
    "        return baseline\n",
    "    return baseline + upscore / score"
   ]
  },
  {
   "cell_type": "code",
   "execution_count": 37,
   "metadata": {
    "collapsed": false
   },
   "outputs": [
    {
     "name": "stdout",
     "output_type": "stream",
     "text": [
      "User Average 3.5652173913 for Vern\n",
      "Predicted ratings for top choices calculated earlier:\n",
      "Rokerij | 4.71714023074 | Average 4.37931034483\n",
      "Wildfish Seafood Grille | 4.27594504172 | Average 4.29411764706\n",
      "Defalco's Italian Grocery | 3.822223075 | Average 4.23255813953\n",
      "Cornish Pasty Company | 4.62810510121 | Average 4.20689655172\n",
      "Pappadeaux Seafood Kitchen | 4.08845573953 | Average 4.18518518519\n"
     ]
    }
   ],
   "source": [
    "print (\"User Average\", smalldf[smalldf.user_id==testuserid].stars.mean(),\"for\",usernamefromid(smalldf,testuserid))\n",
    "print (\"Predicted ratings for top choices calculated earlier:\")\n",
    "for biz_id,biz_avg in toprecos:\n",
    "    print (biznamefromid(smalldf, biz_id),\"|\",rating(smalldf, db, biz_id, testuserid, k=7, reg=3.),\"|\",\"Average\",biz_avg )"
   ]
  },
  {
   "cell_type": "markdown",
   "metadata": {},
   "source": [
    "The major assumption in the approach above is **that we think that the user has rated quite a lot** but its not the case - \n",
    "\n",
    "1. What if the user has rated very few restuarants or he is quite new to the site?\n",
    "2. What if the restaurant is quite new?\n",
    "\n",
    "So should we think like a bayesian?? Hmm will look into it later"
   ]
  },
  {
   "cell_type": "markdown",
   "metadata": {},
   "source": [
    "### Testing the ratings"
   ]
  },
  {
   "cell_type": "code",
   "execution_count": 38,
   "metadata": {
    "collapsed": true
   },
   "outputs": [],
   "source": [
    "def get_other_ratings(restaurant_id, user_id, df):\n",
    "    \"get a user's rating for a restaurant and the restaurant's average rating\"\n",
    "    choice=df[(df.business_id==restaurant_id) & (df.user_id==user_id)]\n",
    "    users_score=choice.stars.values[0]\n",
    "    average_score=choice.business_avg.values[0]\n",
    "    return users_score, average_score"
   ]
  },
  {
   "cell_type": "code",
   "execution_count": 39,
   "metadata": {
    "collapsed": false
   },
   "outputs": [
    {
     "name": "stdout",
     "output_type": "stream",
     "text": [
      "for user Vern avg 3.5652173913\n",
      "----------------------------------\n",
      "Tee Pee Mexican Food\n",
      "Predicted Rating: 3.52640184162\n",
      "Actual User Rating: 5 Avg Rating 3.04347826087\n",
      "----------------------------------\n",
      "Local Breeze\n",
      "Predicted Rating: 4.2280987611\n",
      "Actual User Rating: 5 Avg Rating 4.0\n",
      "----------------------------------\n",
      "Carly's Bistro\n",
      "Predicted Rating: 3.99008654065\n",
      "Actual User Rating: 5 Avg Rating 3.5\n",
      "----------------------------------\n",
      "District American Kitchen and Wine Bar\n",
      "Predicted Rating: 3.80281696528\n",
      "Actual User Rating: 4 Avg Rating 3.55263157895\n",
      "----------------------------------\n",
      "Sonora Mesquite Grill\n",
      "Predicted Rating: 4.08382083034\n",
      "Actual User Rating: 4 Avg Rating 4.38461538462\n"
     ]
    }
   ],
   "source": [
    "print (\"for user\",usernamefromid(smalldf,testuserid), 'avg', smalldf[smalldf.user_id==testuserid].stars.mean() )\n",
    "#we are trying to predict the top rated rests of the user.\n",
    "for biz_id in bizs:\n",
    "    print (\"----------------------------------\")\n",
    "    print (biznamefromid(smalldf, biz_id))\n",
    "    print (\"Predicted Rating:\",rating(smalldf, db, biz_id, testuserid, k=7, reg=3.) )\n",
    "    u,a=get_other_ratings(biz_id, testuserid, smalldf)\n",
    "    print (\"Actual User Rating:\",u,\"Avg Rating\",a)"
   ]
  },
  {
   "cell_type": "markdown",
   "metadata": {},
   "source": [
    "Well here comes the devil. Bias-Variance Trade-off. Well, we are looking at the `bizs` which are the top rated rests by the user Vern which are the largest positive deviations from the mean. But in k nearest neighbors we are pooling info from all the info. Thus the predicted ratings fall closer to the mean rather than the true ones. \n",
    "\n",
    "In general, the larger K is (assuming that the similarities within this neighborhood are positive), the closer the predicted rating will be to Vern's user average (this is the bias limit in the bias-variance tradeoff). Similarly, the smaller K is, the more likely we are to have user ratings that are close to the observed rating (the variance limit). "
   ]
  },
  {
   "cell_type": "code",
   "execution_count": 40,
   "metadata": {
    "collapsed": false
   },
   "outputs": [],
   "source": [
    "def compare_results(stars_actual, stars_predicted, ylow=-10, yhigh=15, title=\"\"):\n",
    "    \"\"\"\n",
    "    plot predicted results against actual results. Takes 2 arguments: a\n",
    "    numpy array of actual ratings and a numpy array of predicted ratings\n",
    "    scatterplots the predictions, a unit slope line, line segments joining the mean,\n",
    "    and a filled in area of the standard deviations.\"\n",
    "    \"\"\"\n",
    "    fig=plt.figure()\n",
    "    df=pd.DataFrame(dict(actual=stars_actual, predicted=stars_predicted))\n",
    "    #simple scatter plo1t, s is the size.\n",
    "    ax=plt.scatter(df.actual, df.predicted, alpha=0.2, s=30, label=\"predicted\")\n",
    "    plt.ylim([ylow,yhigh])\n",
    "    plt.plot([1,5],[1,5], label=\"slope 1\")\n",
    "    xp=[1,2,3,4,5]\n",
    "    #the mean of the predicted values correponding to 1-5\n",
    "    yp=df.groupby('actual').predicted.mean().values\n",
    "    plt.plot(xp,yp,'k', label=\"means\")\n",
    "    sig=df.groupby('actual').predicted.std().values\n",
    "    plt.fill_between(xp, yp - sig, yp + sig, \n",
    "                 color='k', alpha=0.2)\n",
    "    plt.xlabel(\"actual\")\n",
    "    plt.ylabel(\"predicted\")\n",
    "    plt.legend(frameon=False)\n",
    "    remove_border()\n",
    "    plt.grid(False)\n",
    "    plt.title(title)\n",
    "    print (\"fraction between -15 and 15 rating\", np.mean(np.abs(df.predicted) < 15))"
   ]
  },
  {
   "cell_type": "code",
   "execution_count": 41,
   "metadata": {
    "collapsed": false
   },
   "outputs": [
    {
     "data": {
      "text/plain": [
       "'\\nThe more are the number of neighbors, the more we go towards the mean \\nthe less are the number of neighbors, the more we go towards the predicted values.\\n'"
      ]
     },
     "execution_count": 41,
     "metadata": {},
     "output_type": "execute_result"
    }
   ],
   "source": [
    "def make_results_plot(df,k,reg):\n",
    "    uid=smalldf.user_id.values\n",
    "    bid=smalldf.business_id.values\n",
    "    actual=smalldf.stars.values\n",
    "    predicted=np.zeros(len(actual))\n",
    "    counter=0\n",
    "    for user_id, biz_id in zip(uid,bid):\n",
    "        predicted[counter]=rating(smalldf, db, biz_id, user_id, k=k, reg=reg) \n",
    "        counter=counter+1\n",
    "    compare_results(actual, predicted)\n",
    "\"\"\"\n",
    "The more are the number of neighbors, the more we go towards the mean \n",
    "the less are the number of neighbors, the more we go towards the predicted values.\n",
    "\"\"\"    "
   ]
  },
  {
   "cell_type": "code",
   "execution_count": 42,
   "metadata": {
    "collapsed": false
   },
   "outputs": [
    {
     "name": "stdout",
     "output_type": "stream",
     "text": [
      "k=3, reg=3.\n",
      "fraction between -15 and 15 rating 0.999837793998\n"
     ]
    },
    {
     "data": {
      "text/plain": [
       "<matplotlib.text.Text at 0x115f04358>"
      ]
     },
     "execution_count": 42,
     "metadata": {},
     "output_type": "execute_result"
    },
    {
     "data": {
      "image/png": "[encoded data removed]",
      "text/plain": [
       "<matplotlib.figure.Figure at 0x115d66d30>"
      ]
     },
     "metadata": {},
     "output_type": "display_data"
    }
   ],
   "source": [
    "print (\"k=3, reg=3.\")\n",
    "make_results_plot(smalldf,3,3.)\n",
    "plt.title(\"k=3, reg=3.\")"
   ]
  },
  {
   "cell_type": "markdown",
   "metadata": {},
   "source": [
    "#### The more closer is 'slope1' to the mean line better are the results."
   ]
  },
  {
   "cell_type": "code",
   "execution_count": 43,
   "metadata": {
    "collapsed": false
   },
   "outputs": [
    {
     "name": "stdout",
     "output_type": "stream",
     "text": [
      "k=10, reg=3\n",
      "fraction between -15 and 15 rating 0.993349553933\n"
     ]
    },
    {
     "data": {
      "text/plain": [
       "<matplotlib.text.Text at 0x1170bb3c8>"
      ]
     },
     "execution_count": 43,
     "metadata": {},
     "output_type": "execute_result"
    },
    {
     "data": {
      "image/png": "[encoded data removed]",
      "text/plain": [
       "<matplotlib.figure.Figure at 0x115c2d2b0>"
      ]
     },
     "metadata": {},
     "output_type": "display_data"
    }
   ],
   "source": [
    "print (\"k=10, reg=3\")\n",
    "make_results_plot(smalldf, 10, 3.)\n",
    "plt.title(\"k=10, reg=3\")"
   ]
  },
  {
   "cell_type": "code",
   "execution_count": 44,
   "metadata": {
    "collapsed": false
   },
   "outputs": [
    {
     "name": "stdout",
     "output_type": "stream",
     "text": [
      "k=3, reg=10\n",
      "fraction between -15 and 15 rating 0.999675587997\n"
     ]
    },
    {
     "data": {
      "text/plain": [
       "<matplotlib.text.Text at 0x11603add8>"
      ]
     },
     "execution_count": 44,
     "metadata": {},
     "output_type": "execute_result"
    },
    {
     "data": {
      "image/png": "[encoded data removed]",
      "text/plain": [
       "<matplotlib.figure.Figure at 0x1170d9cc0>"
      ]
     },
     "metadata": {},
     "output_type": "display_data"
    }
   ],
   "source": [
    "print (\"k=3, reg=10\")\n",
    "make_results_plot(smalldf, 3, 10.)\n",
    "plt.title(\"k=3, reg=10\")"
   ]
  },
  {
   "cell_type": "code",
   "execution_count": 45,
   "metadata": {
    "collapsed": false
   },
   "outputs": [
    {
     "name": "stdout",
     "output_type": "stream",
     "text": [
      "k=10, reg=10\n",
      "fraction between -15 and 15 rating 0.99399837794\n"
     ]
    },
    {
     "data": {
      "text/plain": [
       "<matplotlib.text.Text at 0x11875f828>"
      ]
     },
     "execution_count": 45,
     "metadata": {},
     "output_type": "execute_result"
    },
    {
     "data": {
      "image/png": "[encoded data removed]",
      "text/plain": [
       "<matplotlib.figure.Figure at 0x116064c18>"
      ]
     },
     "metadata": {},
     "output_type": "display_data"
    }
   ],
   "source": [
    "print (\"k=10, reg=10\")\n",
    "make_results_plot(smalldf, 10, 10.)\n",
    "plt.title(\"k=10, reg=10\")"
   ]
  },
  {
   "cell_type": "code",
   "execution_count": 47,
   "metadata": {
    "collapsed": false
   },
   "outputs": [
    {
     "name": "stdout",
     "output_type": "stream",
     "text": [
      "k=10, reg=10\n",
      "fraction between -15 and 15 rating 1.0\n"
     ]
    },
    {
     "data": {
      "text/plain": [
       "<matplotlib.text.Text at 0x117022860>"
      ]
     },
     "execution_count": 47,
     "metadata": {},
     "output_type": "execute_result"
    },
    {
     "data": {
      "image/png": "[encoded data removed]",
      "text/plain": [
       "<matplotlib.figure.Figure at 0x11617da90>"
      ]
     },
     "metadata": {},
     "output_type": "display_data"
    }
   ],
   "source": [
    "print (\"k=10, reg=10\")\n",
    "make_results_plot(smalldf, 1, 0.)\n",
    "plt.title(\"k=10, reg=100\")"
   ]
  },
  {
   "cell_type": "markdown",
   "metadata": {},
   "source": [
    "For k=3, the predicted values are quite well-behaved, with the exception of several predictions that have extremely large magnitudes. It appears that the predicted values are pulled into the mean star rating, which sits somewhere around 3.8, so ratings on the low end are overestimated, and similarly ratings on the high end underestimated. The regularization does not appear to have a strong effect when k = 3.\n",
    "\n",
    "For k=10, the predicted values are much less stable, with many more extreme predictions. The means appear to track better with the true means. The regularization has a much more extreme, although indirect, effect on the appearance of the plot. Since regularization has stronger effects on similarity scores between restaurants that have small common support, we can see that increasing k makes the predictions more sensitive to the regularization because in a small dataset, the common support between a restaurant and it's 10-nearest one will be quite small."
   ]
  },
  {
   "cell_type": "markdown",
   "metadata": {},
   "source": [
    "Note that this example does not seem to follow the standard bias-variance tradeoff, where we would expect small k to give a unbiased estimates that capture the extremes, while we would expect large k to give biased estimates that pull extreme values toward the mean. A large reason for this failure for this example to capture this behavior is that we have defined similarity scores that can be positive or negative, and the bias-variance logic is based on the more standard setting where we average together values that have strictly positive weights. When you have negative weights, it's possible that the sum of sijsij's in a neighborhood can get close to zero, making our estimator Ŷ umY^um explode in the positive or negative direction since this would entail dividing by (nearly) zero. Thus for those restaurants where the denominator goes to 0 (more likely to happen at larger k as you have more chances of it there being more weights to add), the ratings are unstable, even numerically!"
   ]
  },
  {
   "cell_type": "markdown",
   "metadata": {},
   "source": [
    "#### We can use cross validation to choose the perfect k"
   ]
  },
  {
   "cell_type": "markdown",
   "metadata": {},
   "source": [
    "## Bayesian Chocolates: Model based recommendations"
   ]
  },
  {
   "cell_type": "code",
   "execution_count": 154,
   "metadata": {
    "collapsed": true
   },
   "outputs": [],
   "source": [
    "import urllib\n",
    "import urllib.request\n",
    "\n",
    "\n",
    "url = \"http://sports.williamhill.com/bet/en-gb/betting/y/5/cp/554/Football.html\"\n",
    "page = urllib.request.urlopen(url)\n",
    "\n",
    "from bs4 import BeautifulSoup\n",
    "\n",
    "soup = BeautifulSoup(page, \"html.parser\")\n",
    "\n"
   ]
  },
  {
   "cell_type": "code",
   "execution_count": 182,
   "metadata": {
    "collapsed": false
   },
   "outputs": [
    {
     "name": "stdout",
     "output_type": "stream",
     "text": [
      "<td class=\"leftPad\" scope=\"col\">\n",
      "<span id=\"tzTime:br:1471096800:br:dd_MMM:br:1\">13 Aug</span>\n",
      "</td>\n",
      "<td class=\"leftPad\" scope=\"col\">\n",
      "<span id=\"tzTime:br:1471096800:br:HH:mm_C:br:2\">15:00 UK</span>\n",
      "</td>\n",
      "<td class=\"leftPad\" scope=\"col\">\n",
      "<a href=\"http://sports.williamhill.com/bet/en-gb/betting/e/9464609/Arsenal+v+Liverpool.html\"><span id=\"9464609_mkt_namespace\">Arsenal   v   Liverpool</span></a>\n",
      "</td>\n",
      "<td scope=\"col\">\n",
      "</td>\n",
      "<td scope=\"col\">\n",
      "<div class=\"eventpriceholder-left\" id=\"ip_oddsBtn_1229502658\" onclick=\"document.betslip.add_leg(this,'','L','23','20','','','1229502658')\" onmouseout=\"removeClass(this, 'pricemouseover'); return false\" onmouseover=\"addClass(this, 'pricemouseover'); return false\">\n",
      "<div class=\"eventprice\" id=\"ip_selection1229502658price\">\n",
      "\t\t\t\n",
      "\t\t\t\n",
      "\t\t\t\t\n",
      "\t\t\t\t\t23/20\n",
      "\t\t\t\t\n",
      "\t\t\t\n",
      "\t\t\t\n",
      "\t\t</div>\n",
      "<div class=\"clearBoth\"></div>\n",
      "</div>\n",
      "</td>\n",
      "<td scope=\"col\">\n",
      "<div class=\"eventpriceholder-left\" id=\"ip_oddsBtn_1229502659\" onclick=\"document.betslip.add_leg(this,'','L','23','10','','','1229502659')\" onmouseout=\"removeClass(this, 'pricemouseover'); return false\" onmouseover=\"addClass(this, 'pricemouseover'); return false\">\n",
      "<div class=\"eventprice\" id=\"ip_selection1229502659price\">\n",
      "\t\t\t\n",
      "\t\t\t\n",
      "\t\t\t\t\n",
      "\t\t\t\t\t23/10\n",
      "\t\t\t\t\n",
      "\t\t\t\n",
      "\t\t\t\n",
      "\t\t</div>\n",
      "<div class=\"clearBoth\"></div>\n",
      "</div>\n",
      "</td>\n",
      "<td scope=\"col\">\n",
      "<div class=\"eventpriceholder-left\" id=\"ip_oddsBtn_1229502660\" onclick=\"document.betslip.add_leg(this,'','L','12','5','','','1229502660')\" onmouseout=\"removeClass(this, 'pricemouseover'); return false\" onmouseover=\"addClass(this, 'pricemouseover'); return false\">\n",
      "<div class=\"eventprice\" id=\"ip_selection1229502660price\">\n",
      "\t\t\t\n",
      "\t\t\t\n",
      "\t\t\t\t\n",
      "\t\t\t\t\t12/5\n",
      "\t\t\t\t\n",
      "\t\t\t\n",
      "\t\t\t\n",
      "\t\t</div>\n",
      "<div class=\"clearBoth\"></div>\n",
      "</div>\n",
      "</td>\n",
      "<td scope=\"col\">\n",
      "<div id=\"more_bets_container_9464609\">\n",
      "<a class=\"\" href=\"http://sports.williamhill.com/bet/en-gb/betting/e/9464609/Arsenal+v+Liverpool.html\" id=\"ip_more_bets_link_9464609\" title=\"More markets\">\n",
      "<nobr>+ 138 Bets</nobr>\n",
      "</a>\n",
      "</div>\n",
      "</td>\n",
      "<td id=\"9464609_tv_link\" scope=\"col\">\n",
      "<a class=\"\" href=\"#\" title=\"Live on WHTV. Territory restrictions may apply\"><img height=\"20\" src=\"http://whdn.williamhill.com/core/ob/static/cust/images/en/video.gif?ver=9975b76e305635770e3f9e39b0da4e7f\" style=\"visibility: hidden;\" width=\"16\"/></a>\n",
      "</td>\n",
      "<td id=\"9464609_stats_link\" scope=\"col\">\n",
      "<a class=\"\" href=\"javascript:window.open('http://stats.touch-line.com/Welcome.asp?cust=9&amp;nourl=www.willhill.com/EN/FB_Stats_Touchline','TouchlineStats','scrollbars=1,height=760,width=820,left=10,top=10,titlebar=0,sta tus=0,toolbar=0,menubar=0,location=0');void(0);\" title=\"Touchline Stats\"><img alt=\"Stats\" height=\"20\" src=\"http://whdn.williamhill.com/core/ob/static/cust/images/en/stats.gif?ver=9975b76e305635770e3f9e39b0da4e7f\" width=\"16\"/></a>\n",
      "</td>\n",
      "<td id=\"9464609_my_events_link\" scope=\"col\">\n",
      "<div class=\"contentMyEv\"><div id=\"fav_div_9464609\"><a class=\"\" href=\"#\"><img height=\"20\" src=\"http://whdn.williamhill.com/core/ob/static/cust/images/en/add-event.gif?ver=9975b76e305635770e3f9e39b0da4e7f\" style=\"visibility: hidden;\" width=\"16\"/></a></div></div>\n",
      "</td>\n",
      "<td class=\"leftPad\" scope=\"col\">\n",
      "<span id=\"tzTime:br:1471096800:br:dd_MMM:br:3\">13 Aug</span>\n",
      "</td>\n",
      "<td class=\"leftPad\" scope=\"col\">\n",
      "<span id=\"tzTime:br:1471096800:br:HH:mm_C:br:4\">15:00 UK</span>\n",
      "</td>\n",
      "<td class=\"leftPad\" scope=\"col\">\n",
      "<a href=\"http://sports.williamhill.com/bet/en-gb/betting/e/9464610/Bournemouth+v+Man+Utd.html\"><span id=\"9464610_mkt_namespace\">Bournemouth   v   Man Utd</span></a>\n",
      "</td>\n",
      "<td scope=\"col\">\n",
      "</td>\n",
      "<td scope=\"col\">\n",
      "<div class=\"eventpriceholder-left\" id=\"ip_oddsBtn_1229503154\" onclick=\"document.betslip.add_leg(this,'','L','7','2','','','1229503154')\" onmouseout=\"removeClass(this, 'pricemouseover'); return false\" onmouseover=\"addClass(this, 'pricemouseover'); return false\">\n",
      "<div class=\"eventprice\" id=\"ip_selection1229503154price\">\n",
      "\t\t\t\n",
      "\t\t\t\n",
      "\t\t\t\t\n",
      "\t\t\t\t\t7/2\n",
      "\t\t\t\t\n",
      "\t\t\t\n",
      "\t\t\t\n",
      "\t\t</div>\n",
      "<div class=\"clearBoth\"></div>\n",
      "</div>\n",
      "</td>\n",
      "<td scope=\"col\">\n",
      "<div class=\"eventpriceholder-left\" id=\"ip_oddsBtn_1229503155\" onclick=\"document.betslip.add_leg(this,'','L','5','2','','','1229503155')\" onmouseout=\"removeClass(this, 'pricemouseover'); return false\" onmouseover=\"addClass(this, 'pricemouseover'); return false\">\n",
      "<div class=\"eventprice\" id=\"ip_selection1229503155price\">\n",
      "\t\t\t\n",
      "\t\t\t\n",
      "\t\t\t\t\n",
      "\t\t\t\t\t5/2\n",
      "\t\t\t\t\n",
      "\t\t\t\n",
      "\t\t\t\n",
      "\t\t</div>\n",
      "<div class=\"clearBoth\"></div>\n",
      "</div>\n",
      "</td>\n",
      "<td scope=\"col\">\n",
      "<div class=\"eventpriceholder-left\" id=\"ip_oddsBtn_1229503156\" onclick=\"document.betslip.add_leg(this,'','L','4','5','','','1229503156')\" onmouseout=\"removeClass(this, 'pricemouseover'); return false\" onmouseover=\"addClass(this, 'pricemouseover'); return false\">\n",
      "<div class=\"eventprice\" id=\"ip_selection1229503156price\">\n",
      "\t\t\t\n",
      "\t\t\t\n",
      "\t\t\t\t\n",
      "\t\t\t\t\t4/5\n",
      "\t\t\t\t\n",
      "\t\t\t\n",
      "\t\t\t\n",
      "\t\t</div>\n",
      "<div class=\"clearBoth\"></div>\n",
      "</div>\n",
      "</td>\n",
      "<td scope=\"col\">\n",
      "<div id=\"more_bets_container_9464610\">\n",
      "<a class=\"\" href=\"http://sports.williamhill.com/bet/en-gb/betting/e/9464610/Bournemouth+v+Man+Utd.html\" id=\"ip_more_bets_link_9464610\" title=\"More markets\">\n",
      "<nobr>+ 137 Bets</nobr>\n",
      "</a>\n",
      "</div>\n",
      "</td>\n",
      "<td id=\"9464610_tv_link\" scope=\"col\">\n",
      "<a class=\"\" href=\"#\" title=\"Live on WHTV. Territory restrictions may apply\"><img height=\"20\" src=\"http://whdn.williamhill.com/core/ob/static/cust/images/en/video.gif?ver=9975b76e305635770e3f9e39b0da4e7f\" style=\"visibility: hidden;\" width=\"16\"/></a>\n",
      "</td>\n",
      "<td id=\"9464610_stats_link\" scope=\"col\">\n",
      "<a class=\"\" href=\"javascript:window.open('http://stats.touch-line.com/Welcome.asp?cust=9&amp;nourl=www.willhill.com/EN/FB_Stats_Touchline','TouchlineStats','scrollbars=1,height=760,width=820,left=10,top=10,titlebar=0,sta tus=0,toolbar=0,menubar=0,location=0');void(0);\" title=\"Touchline Stats\"><img alt=\"Stats\" height=\"20\" src=\"http://whdn.williamhill.com/core/ob/static/cust/images/en/stats.gif?ver=9975b76e305635770e3f9e39b0da4e7f\" width=\"16\"/></a>\n",
      "</td>\n",
      "<td id=\"9464610_my_events_link\" scope=\"col\">\n",
      "<div class=\"contentMyEv\"><div id=\"fav_div_9464610\"><a class=\"\" href=\"#\"><img height=\"20\" src=\"http://whdn.williamhill.com/core/ob/static/cust/images/en/add-event.gif?ver=9975b76e305635770e3f9e39b0da4e7f\" style=\"visibility: hidden;\" width=\"16\"/></a></div></div>\n",
      "</td>\n",
      "<td class=\"leftPad\" scope=\"col\">\n",
      "<span id=\"tzTime:br:1471096800:br:dd_MMM:br:5\">13 Aug</span>\n",
      "</td>\n",
      "<td class=\"leftPad\" scope=\"col\">\n",
      "<span id=\"tzTime:br:1471096800:br:HH:mm_C:br:6\">15:00 UK</span>\n",
      "</td>\n",
      "<td class=\"leftPad\" scope=\"col\">\n",
      "<a href=\"http://sports.williamhill.com/bet/en-gb/betting/e/9464611/Burnley+v+Swansea.html\"><span id=\"9464611_mkt_namespace\">Burnley   v   Swansea</span></a>\n",
      "</td>\n",
      "<td scope=\"col\">\n",
      "</td>\n",
      "<td scope=\"col\">\n",
      "<div class=\"eventpriceholder-left\" id=\"ip_oddsBtn_1229504221\" onclick=\"document.betslip.add_leg(this,'','L','6','4','','','1229504221')\" onmouseout=\"removeClass(this, 'pricemouseover'); return false\" onmouseover=\"addClass(this, 'pricemouseover'); return false\">\n",
      "<div class=\"eventprice\" id=\"ip_selection1229504221price\">\n",
      "\t\t\t\n",
      "\t\t\t\n",
      "\t\t\t\t\n",
      "\t\t\t\t\t6/4\n",
      "\t\t\t\t\n",
      "\t\t\t\n",
      "\t\t\t\n",
      "\t\t</div>\n",
      "<div class=\"clearBoth\"></div>\n",
      "</div>\n",
      "</td>\n",
      "<td scope=\"col\">\n",
      "<div class=\"eventpriceholder-left\" id=\"ip_oddsBtn_1229504222\" onclick=\"document.betslip.add_leg(this,'','L','11','5','','','1229504222')\" onmouseout=\"removeClass(this, 'pricemouseover'); return false\" onmouseover=\"addClass(this, 'pricemouseover'); return false\">\n",
      "<div class=\"eventprice\" id=\"ip_selection1229504222price\">\n",
      "\t\t\t\n",
      "\t\t\t\n",
      "\t\t\t\t\n",
      "\t\t\t\t\t11/5\n",
      "\t\t\t\t\n",
      "\t\t\t\n",
      "\t\t\t\n",
      "\t\t</div>\n",
      "<div class=\"clearBoth\"></div>\n",
      "</div>\n",
      "</td>\n",
      "<td scope=\"col\">\n",
      "<div class=\"eventpriceholder-left\" id=\"ip_oddsBtn_1229504223\" onclick=\"document.betslip.add_leg(this,'','L','19','10','','','1229504223')\" onmouseout=\"removeClass(this, 'pricemouseover'); return false\" onmouseover=\"addClass(this, 'pricemouseover'); return false\">\n",
      "<div class=\"eventprice\" id=\"ip_selection1229504223price\">\n",
      "\t\t\t\n",
      "\t\t\t\n",
      "\t\t\t\t\n",
      "\t\t\t\t\t19/10\n",
      "\t\t\t\t\n",
      "\t\t\t\n",
      "\t\t\t\n",
      "\t\t</div>\n",
      "<div class=\"clearBoth\"></div>\n",
      "</div>\n",
      "</td>\n",
      "<td scope=\"col\">\n",
      "<div id=\"more_bets_container_9464611\">\n",
      "<a class=\"\" href=\"http://sports.williamhill.com/bet/en-gb/betting/e/9464611/Burnley+v+Swansea.html\" id=\"ip_more_bets_link_9464611\" title=\"More markets\">\n",
      "<nobr>+ 135 Bets</nobr>\n",
      "</a>\n",
      "</div>\n",
      "</td>\n",
      "<td id=\"9464611_tv_link\" scope=\"col\">\n",
      "<a class=\"\" href=\"#\" title=\"Live on WHTV. Territory restrictions may apply\"><img height=\"20\" src=\"http://whdn.williamhill.com/core/ob/static/cust/images/en/video.gif?ver=9975b76e305635770e3f9e39b0da4e7f\" style=\"visibility: hidden;\" width=\"16\"/></a>\n",
      "</td>\n",
      "<td id=\"9464611_stats_link\" scope=\"col\">\n",
      "<a class=\"\" href=\"javascript:window.open('http://stats.touch-line.com/Welcome.asp?cust=9&amp;nourl=www.willhill.com/EN/FB_Stats_Touchline','TouchlineStats','scrollbars=1,height=760,width=820,left=10,top=10,titlebar=0,sta tus=0,toolbar=0,menubar=0,location=0');void(0);\" title=\"Touchline Stats\"><img alt=\"Stats\" height=\"20\" src=\"http://whdn.williamhill.com/core/ob/static/cust/images/en/stats.gif?ver=9975b76e305635770e3f9e39b0da4e7f\" width=\"16\"/></a>\n",
      "</td>\n",
      "<td id=\"9464611_my_events_link\" scope=\"col\">\n",
      "<div class=\"contentMyEv\"><div id=\"fav_div_9464611\"><a class=\"\" href=\"#\"><img height=\"20\" src=\"http://whdn.williamhill.com/core/ob/static/cust/images/en/add-event.gif?ver=9975b76e305635770e3f9e39b0da4e7f\" style=\"visibility: hidden;\" width=\"16\"/></a></div></div>\n",
      "</td>\n",
      "<td class=\"leftPad\" scope=\"col\">\n",
      "<span id=\"tzTime:br:1471096800:br:dd_MMM:br:7\">13 Aug</span>\n",
      "</td>\n",
      "<td class=\"leftPad\" scope=\"col\">\n",
      "<span id=\"tzTime:br:1471096800:br:HH:mm_C:br:8\">15:00 UK</span>\n",
      "</td>\n",
      "<td class=\"leftPad\" scope=\"col\">\n",
      "<a href=\"http://sports.williamhill.com/bet/en-gb/betting/e/9464612/Chelsea+v+West+Ham.html\"><span id=\"9464612_mkt_namespace\">Chelsea   v   West Ham</span></a>\n",
      "</td>\n",
      "<td scope=\"col\">\n",
      "</td>\n",
      "<td scope=\"col\">\n",
      "<div class=\"eventpriceholder-left\" id=\"ip_oddsBtn_1229503668\" onclick=\"document.betslip.add_leg(this,'','L','4','6','','','1229503668')\" onmouseout=\"removeClass(this, 'pricemouseover'); return false\" onmouseover=\"addClass(this, 'pricemouseover'); return false\">\n",
      "<div class=\"eventprice\" id=\"ip_selection1229503668price\">\n",
      "\t\t\t\n",
      "\t\t\t\n",
      "\t\t\t\t\n",
      "\t\t\t\t\t4/6\n",
      "\t\t\t\t\n",
      "\t\t\t\n",
      "\t\t\t\n",
      "\t\t</div>\n",
      "<div class=\"clearBoth\"></div>\n",
      "</div>\n",
      "</td>\n",
      "<td scope=\"col\">\n",
      "<div class=\"eventpriceholder-left\" id=\"ip_oddsBtn_1229503669\" onclick=\"document.betslip.add_leg(this,'','L','14','5','','','1229503669')\" onmouseout=\"removeClass(this, 'pricemouseover'); return false\" onmouseover=\"addClass(this, 'pricemouseover'); return false\">\n",
      "<div class=\"eventprice\" id=\"ip_selection1229503669price\">\n",
      "\t\t\t\n",
      "\t\t\t\n",
      "\t\t\t\t\n",
      "\t\t\t\t\t14/5\n",
      "\t\t\t\t\n",
      "\t\t\t\n",
      "\t\t\t\n",
      "\t\t</div>\n",
      "<div class=\"clearBoth\"></div>\n",
      "</div>\n",
      "</td>\n",
      "<td scope=\"col\">\n",
      "<div class=\"eventpriceholder-left\" id=\"ip_oddsBtn_1229503670\" onclick=\"document.betslip.add_leg(this,'','L','4','1','','','1229503670')\" onmouseout=\"removeClass(this, 'pricemouseover'); return false\" onmouseover=\"addClass(this, 'pricemouseover'); return false\">\n",
      "<div class=\"eventprice\" id=\"ip_selection1229503670price\">\n",
      "\t\t\t\n",
      "\t\t\t\n",
      "\t\t\t\t\n",
      "\t\t\t\t\t4/1\n",
      "\t\t\t\t\n",
      "\t\t\t\n",
      "\t\t\t\n",
      "\t\t</div>\n",
      "<div class=\"clearBoth\"></div>\n",
      "</div>\n",
      "</td>\n",
      "<td scope=\"col\">\n",
      "<div id=\"more_bets_container_9464612\">\n",
      "<a class=\"\" href=\"http://sports.williamhill.com/bet/en-gb/betting/e/9464612/Chelsea+v+West+Ham.html\" id=\"ip_more_bets_link_9464612\" title=\"More markets\">\n",
      "<nobr>+ 135 Bets</nobr>\n",
      "</a>\n",
      "</div>\n",
      "</td>\n",
      "<td id=\"9464612_tv_link\" scope=\"col\">\n",
      "<a class=\"\" href=\"#\" title=\"Live on WHTV. Territory restrictions may apply\"><img height=\"20\" src=\"http://whdn.williamhill.com/core/ob/static/cust/images/en/video.gif?ver=9975b76e305635770e3f9e39b0da4e7f\" style=\"visibility: hidden;\" width=\"16\"/></a>\n",
      "</td>\n",
      "<td id=\"9464612_stats_link\" scope=\"col\">\n",
      "<a class=\"\" href=\"javascript:window.open('http://stats.touch-line.com/Welcome.asp?cust=9&amp;nourl=www.willhill.com/EN/FB_Stats_Touchline','TouchlineStats','scrollbars=1,height=760,width=820,left=10,top=10,titlebar=0,sta tus=0,toolbar=0,menubar=0,location=0');void(0);\" title=\"Touchline Stats\"><img alt=\"Stats\" height=\"20\" src=\"http://whdn.williamhill.com/core/ob/static/cust/images/en/stats.gif?ver=9975b76e305635770e3f9e39b0da4e7f\" width=\"16\"/></a>\n",
      "</td>\n",
      "<td id=\"9464612_my_events_link\" scope=\"col\">\n",
      "<div class=\"contentMyEv\"><div id=\"fav_div_9464612\"><a class=\"\" href=\"#\"><img height=\"20\" src=\"http://whdn.williamhill.com/core/ob/static/cust/images/en/add-event.gif?ver=9975b76e305635770e3f9e39b0da4e7f\" style=\"visibility: hidden;\" width=\"16\"/></a></div></div>\n",
      "</td>\n",
      "<td class=\"leftPad\" scope=\"col\">\n",
      "<span id=\"tzTime:br:1471096800:br:dd_MMM:br:9\">13 Aug</span>\n",
      "</td>\n",
      "<td class=\"leftPad\" scope=\"col\">\n",
      "<span id=\"tzTime:br:1471096800:br:HH:mm_C:br:10\">15:00 UK</span>\n",
      "</td>\n",
      "<td class=\"leftPad\" scope=\"col\">\n",
      "<a href=\"http://sports.williamhill.com/bet/en-gb/betting/e/9464613/Crystal+Palace+v+West+Brom.html\"><span id=\"9464613_mkt_namespace\">Crystal Palace   v   West Brom</span></a>\n",
      "</td>\n",
      "<td scope=\"col\">\n",
      "</td>\n",
      "<td scope=\"col\">\n",
      "<div class=\"eventpriceholder-left\" id=\"ip_oddsBtn_1229504912\" onclick=\"document.betslip.add_leg(this,'','L','6','5','','','1229504912')\" onmouseout=\"removeClass(this, 'pricemouseover'); return false\" onmouseover=\"addClass(this, 'pricemouseover'); return false\">\n",
      "<div class=\"eventprice\" id=\"ip_selection1229504912price\">\n",
      "\t\t\t\n",
      "\t\t\t\n",
      "\t\t\t\t\n",
      "\t\t\t\t\t6/5\n",
      "\t\t\t\t\n",
      "\t\t\t\n",
      "\t\t\t\n",
      "\t\t</div>\n",
      "<div class=\"clearBoth\"></div>\n",
      "</div>\n",
      "</td>\n",
      "<td scope=\"col\">\n",
      "<div class=\"eventpriceholder-left\" id=\"ip_oddsBtn_1229504913\" onclick=\"document.betslip.add_leg(this,'','L','21','10','','','1229504913')\" onmouseout=\"removeClass(this, 'pricemouseover'); return false\" onmouseover=\"addClass(this, 'pricemouseover'); return false\">\n",
      "<div class=\"eventprice\" id=\"ip_selection1229504913price\">\n",
      "\t\t\t\n",
      "\t\t\t\n",
      "\t\t\t\t\n",
      "\t\t\t\t\t21/10\n",
      "\t\t\t\t\n",
      "\t\t\t\n",
      "\t\t\t\n",
      "\t\t</div>\n",
      "<div class=\"clearBoth\"></div>\n",
      "</div>\n",
      "</td>\n",
      "<td scope=\"col\">\n",
      "<div class=\"eventpriceholder-left\" id=\"ip_oddsBtn_1229504914\" onclick=\"document.betslip.add_leg(this,'','L','5','2','','','1229504914')\" onmouseout=\"removeClass(this, 'pricemouseover'); return false\" onmouseover=\"addClass(this, 'pricemouseover'); return false\">\n",
      "<div class=\"eventprice\" id=\"ip_selection1229504914price\">\n",
      "\t\t\t\n",
      "\t\t\t\n",
      "\t\t\t\t\n",
      "\t\t\t\t\t5/2\n",
      "\t\t\t\t\n",
      "\t\t\t\n",
      "\t\t\t\n",
      "\t\t</div>\n",
      "<div class=\"clearBoth\"></div>\n",
      "</div>\n",
      "</td>\n",
      "<td scope=\"col\">\n",
      "<div id=\"more_bets_container_9464613\">\n",
      "<a class=\"\" href=\"http://sports.williamhill.com/bet/en-gb/betting/e/9464613/Crystal+Palace+v+West+Brom.html\" id=\"ip_more_bets_link_9464613\" title=\"More markets\">\n",
      "<nobr>+ 136 Bets</nobr>\n",
      "</a>\n",
      "</div>\n",
      "</td>\n",
      "<td id=\"9464613_tv_link\" scope=\"col\">\n",
      "<a class=\"\" href=\"#\" title=\"Live on WHTV. Territory restrictions may apply\"><img height=\"20\" src=\"http://whdn.williamhill.com/core/ob/static/cust/images/en/video.gif?ver=9975b76e305635770e3f9e39b0da4e7f\" style=\"visibility: hidden;\" width=\"16\"/></a>\n",
      "</td>\n",
      "<td id=\"9464613_stats_link\" scope=\"col\">\n",
      "<a class=\"\" href=\"javascript:window.open('http://stats.touch-line.com/Welcome.asp?cust=9&amp;nourl=www.willhill.com/EN/FB_Stats_Touchline','TouchlineStats','scrollbars=1,height=760,width=820,left=10,top=10,titlebar=0,sta tus=0,toolbar=0,menubar=0,location=0');void(0);\" title=\"Touchline Stats\"><img alt=\"Stats\" height=\"20\" src=\"http://whdn.williamhill.com/core/ob/static/cust/images/en/stats.gif?ver=9975b76e305635770e3f9e39b0da4e7f\" width=\"16\"/></a>\n",
      "</td>\n",
      "<td id=\"9464613_my_events_link\" scope=\"col\">\n",
      "<div class=\"contentMyEv\"><div id=\"fav_div_9464613\"><a class=\"\" href=\"#\"><img height=\"20\" src=\"http://whdn.williamhill.com/core/ob/static/cust/images/en/add-event.gif?ver=9975b76e305635770e3f9e39b0da4e7f\" style=\"visibility: hidden;\" width=\"16\"/></a></div></div>\n",
      "</td>\n",
      "<td class=\"leftPad\" scope=\"col\">\n",
      "<span id=\"tzTime:br:1471096800:br:dd_MMM:br:11\">13 Aug</span>\n",
      "</td>\n",
      "<td class=\"leftPad\" scope=\"col\">\n",
      "<span id=\"tzTime:br:1471096800:br:HH:mm_C:br:12\">15:00 UK</span>\n",
      "</td>\n",
      "<td class=\"leftPad\" scope=\"col\">\n",
      "<a href=\"http://sports.williamhill.com/bet/en-gb/betting/e/9464614/Everton+v+Tottenham.html\"><span id=\"9464614_mkt_namespace\">Everton   v   Tottenham</span></a>\n",
      "</td>\n",
      "<td scope=\"col\">\n",
      "</td>\n",
      "<td scope=\"col\">\n",
      "<div class=\"eventpriceholder-left\" id=\"ip_oddsBtn_1229505920\" onclick=\"document.betslip.add_leg(this,'','L','15','8','','','1229505920')\" onmouseout=\"removeClass(this, 'pricemouseover'); return false\" onmouseover=\"addClass(this, 'pricemouseover'); return false\">\n",
      "<div class=\"eventprice\" id=\"ip_selection1229505920price\">\n",
      "\t\t\t\n",
      "\t\t\t\n",
      "\t\t\t\t\n",
      "\t\t\t\t\t15/8\n",
      "\t\t\t\t\n",
      "\t\t\t\n",
      "\t\t\t\n",
      "\t\t</div>\n",
      "<div class=\"clearBoth\"></div>\n",
      "</div>\n",
      "</td>\n",
      "<td scope=\"col\">\n",
      "<div class=\"eventpriceholder-left\" id=\"ip_oddsBtn_1229505921\" onclick=\"document.betslip.add_leg(this,'','L','23','10','','','1229505921')\" onmouseout=\"removeClass(this, 'pricemouseover'); return false\" onmouseover=\"addClass(this, 'pricemouseover'); return false\">\n",
      "<div class=\"eventprice\" id=\"ip_selection1229505921price\">\n",
      "\t\t\t\n",
      "\t\t\t\n",
      "\t\t\t\t\n",
      "\t\t\t\t\t23/10\n",
      "\t\t\t\t\n",
      "\t\t\t\n",
      "\t\t\t\n",
      "\t\t</div>\n",
      "<div class=\"clearBoth\"></div>\n",
      "</div>\n",
      "</td>\n",
      "<td scope=\"col\">\n",
      "<div class=\"eventpriceholder-left\" id=\"ip_oddsBtn_1229505922\" onclick=\"document.betslip.add_leg(this,'','L','7','5','','','1229505922')\" onmouseout=\"removeClass(this, 'pricemouseover'); return false\" onmouseover=\"addClass(this, 'pricemouseover'); return false\">\n",
      "<div class=\"eventprice\" id=\"ip_selection1229505922price\">\n",
      "\t\t\t\n",
      "\t\t\t\n",
      "\t\t\t\t\n",
      "\t\t\t\t\t7/5\n",
      "\t\t\t\t\n",
      "\t\t\t\n",
      "\t\t\t\n",
      "\t\t</div>\n",
      "<div class=\"clearBoth\"></div>\n",
      "</div>\n",
      "</td>\n",
      "<td scope=\"col\">\n",
      "<div id=\"more_bets_container_9464614\">\n",
      "<a class=\"\" href=\"http://sports.williamhill.com/bet/en-gb/betting/e/9464614/Everton+v+Tottenham.html\" id=\"ip_more_bets_link_9464614\" title=\"More markets\">\n",
      "<nobr>+ 136 Bets</nobr>\n",
      "</a>\n",
      "</div>\n",
      "</td>\n",
      "<td id=\"9464614_tv_link\" scope=\"col\">\n",
      "<a class=\"\" href=\"#\" title=\"Live on WHTV. Territory restrictions may apply\"><img height=\"20\" src=\"http://whdn.williamhill.com/core/ob/static/cust/images/en/video.gif?ver=9975b76e305635770e3f9e39b0da4e7f\" style=\"visibility: hidden;\" width=\"16\"/></a>\n",
      "</td>\n",
      "<td id=\"9464614_stats_link\" scope=\"col\">\n",
      "<a class=\"\" href=\"javascript:window.open('http://stats.touch-line.com/Welcome.asp?cust=9&amp;nourl=www.willhill.com/EN/FB_Stats_Touchline','TouchlineStats','scrollbars=1,height=760,width=820,left=10,top=10,titlebar=0,sta tus=0,toolbar=0,menubar=0,location=0');void(0);\" title=\"Touchline Stats\"><img alt=\"Stats\" height=\"20\" src=\"http://whdn.williamhill.com/core/ob/static/cust/images/en/stats.gif?ver=9975b76e305635770e3f9e39b0da4e7f\" width=\"16\"/></a>\n",
      "</td>\n",
      "<td id=\"9464614_my_events_link\" scope=\"col\">\n",
      "<div class=\"contentMyEv\"><div id=\"fav_div_9464614\"><a class=\"\" href=\"#\"><img height=\"20\" src=\"http://whdn.williamhill.com/core/ob/static/cust/images/en/add-event.gif?ver=9975b76e305635770e3f9e39b0da4e7f\" style=\"visibility: hidden;\" width=\"16\"/></a></div></div>\n",
      "</td>\n",
      "<td class=\"leftPad\" scope=\"col\">\n",
      "<span id=\"tzTime:br:1471096800:br:dd_MMM:br:13\">13 Aug</span>\n",
      "</td>\n",
      "<td class=\"leftPad\" scope=\"col\">\n",
      "<span id=\"tzTime:br:1471096800:br:HH:mm_C:br:14\">15:00 UK</span>\n",
      "</td>\n",
      "<td class=\"leftPad\" scope=\"col\">\n",
      "<a href=\"http://sports.williamhill.com/bet/en-gb/betting/e/9464615/Hull+v+Leicester.html\"><span id=\"9464615_mkt_namespace\">Hull   v   Leicester</span></a>\n",
      "</td>\n",
      "<td scope=\"col\">\n",
      "</td>\n",
      "<td scope=\"col\">\n",
      "<div class=\"eventpriceholder-left\" id=\"ip_oddsBtn_1229505406\" onclick=\"document.betslip.add_leg(this,'','L','21','10','','','1229505406')\" onmouseout=\"removeClass(this, 'pricemouseover'); return false\" onmouseover=\"addClass(this, 'pricemouseover'); return false\">\n",
      "<div class=\"eventprice\" id=\"ip_selection1229505406price\">\n",
      "\t\t\t\n",
      "\t\t\t\n",
      "\t\t\t\t\n",
      "\t\t\t\t\t21/10\n",
      "\t\t\t\t\n",
      "\t\t\t\n",
      "\t\t\t\n",
      "\t\t</div>\n",
      "<div class=\"clearBoth\"></div>\n",
      "</div>\n",
      "</td>\n",
      "<td scope=\"col\">\n",
      "<div class=\"eventpriceholder-left\" id=\"ip_oddsBtn_1229505407\" onclick=\"document.betslip.add_leg(this,'','L','2','1','','','1229505407')\" onmouseout=\"removeClass(this, 'pricemouseover'); return false\" onmouseover=\"addClass(this, 'pricemouseover'); return false\">\n",
      "<div class=\"eventprice\" id=\"ip_selection1229505407price\">\n",
      "\t\t\t\n",
      "\t\t\t\n",
      "\t\t\t\t\n",
      "\t\t\t\t\t2/1\n",
      "\t\t\t\t\n",
      "\t\t\t\n",
      "\t\t\t\n",
      "\t\t</div>\n",
      "<div class=\"clearBoth\"></div>\n",
      "</div>\n",
      "</td>\n",
      "<td scope=\"col\">\n",
      "<div class=\"eventpriceholder-left\" id=\"ip_oddsBtn_1229505408\" onclick=\"document.betslip.add_leg(this,'','L','13','10','','','1229505408')\" onmouseout=\"removeClass(this, 'pricemouseover'); return false\" onmouseover=\"addClass(this, 'pricemouseover'); return false\">\n",
      "<div class=\"eventprice\" id=\"ip_selection1229505408price\">\n",
      "\t\t\t\n",
      "\t\t\t\n",
      "\t\t\t\t\n",
      "\t\t\t\t\t13/10\n",
      "\t\t\t\t\n",
      "\t\t\t\n",
      "\t\t\t\n",
      "\t\t</div>\n",
      "<div class=\"clearBoth\"></div>\n",
      "</div>\n",
      "</td>\n",
      "<td scope=\"col\">\n",
      "<div id=\"more_bets_container_9464615\">\n",
      "<a class=\"\" href=\"http://sports.williamhill.com/bet/en-gb/betting/e/9464615/Hull+v+Leicester.html\" id=\"ip_more_bets_link_9464615\" title=\"More markets\">\n",
      "<nobr>+ 135 Bets</nobr>\n",
      "</a>\n",
      "</div>\n",
      "</td>\n",
      "<td id=\"9464615_tv_link\" scope=\"col\">\n",
      "<a class=\"\" href=\"#\" title=\"Live on WHTV. Territory restrictions may apply\"><img height=\"20\" src=\"http://whdn.williamhill.com/core/ob/static/cust/images/en/video.gif?ver=9975b76e305635770e3f9e39b0da4e7f\" style=\"visibility: hidden;\" width=\"16\"/></a>\n",
      "</td>\n",
      "<td id=\"9464615_stats_link\" scope=\"col\">\n",
      "<a class=\"\" href=\"javascript:window.open('http://stats.touch-line.com/Welcome.asp?cust=9&amp;nourl=www.willhill.com/EN/FB_Stats_Touchline','TouchlineStats','scrollbars=1,height=760,width=820,left=10,top=10,titlebar=0,sta tus=0,toolbar=0,menubar=0,location=0');void(0);\" title=\"Touchline Stats\"><img alt=\"Stats\" height=\"20\" src=\"http://whdn.williamhill.com/core/ob/static/cust/images/en/stats.gif?ver=9975b76e305635770e3f9e39b0da4e7f\" width=\"16\"/></a>\n",
      "</td>\n",
      "<td id=\"9464615_my_events_link\" scope=\"col\">\n",
      "<div class=\"contentMyEv\"><div id=\"fav_div_9464615\"><a class=\"\" href=\"#\"><img height=\"20\" src=\"http://whdn.williamhill.com/core/ob/static/cust/images/en/add-event.gif?ver=9975b76e305635770e3f9e39b0da4e7f\" style=\"visibility: hidden;\" width=\"16\"/></a></div></div>\n",
      "</td>\n",
      "<td class=\"leftPad\" scope=\"col\">\n",
      "<span id=\"tzTime:br:1471096800:br:dd_MMM:br:15\">13 Aug</span>\n",
      "</td>\n",
      "<td class=\"leftPad\" scope=\"col\">\n",
      "<span id=\"tzTime:br:1471096800:br:HH:mm_C:br:16\">15:00 UK</span>\n",
      "</td>\n",
      "<td class=\"leftPad\" scope=\"col\">\n",
      "<a href=\"http://sports.williamhill.com/bet/en-gb/betting/e/9464616/Man+City+v+Sunderland.html\"><span id=\"9464616_mkt_namespace\">Man City   v   Sunderland</span></a>\n",
      "</td>\n",
      "<td scope=\"col\">\n",
      "</td>\n",
      "<td scope=\"col\">\n",
      "<div class=\"eventpriceholder-left\" id=\"ip_oddsBtn_1229506717\" onclick=\"document.betslip.add_leg(this,'','L','2','9','','','1229506717')\" onmouseout=\"removeClass(this, 'pricemouseover'); return false\" onmouseover=\"addClass(this, 'pricemouseover'); return false\">\n",
      "<div class=\"eventprice\" id=\"ip_selection1229506717price\">\n",
      "\t\t\t\n",
      "\t\t\t\n",
      "\t\t\t\t\n",
      "\t\t\t\t\t2/9\n",
      "\t\t\t\t\n",
      "\t\t\t\n",
      "\t\t\t\n",
      "\t\t</div>\n",
      "<div class=\"clearBoth\"></div>\n",
      "</div>\n",
      "</td>\n",
      "<td scope=\"col\">\n",
      "<div class=\"eventpriceholder-left\" id=\"ip_oddsBtn_1229506718\" onclick=\"document.betslip.add_leg(this,'','L','5','1','','','1229506718')\" onmouseout=\"removeClass(this, 'pricemouseover'); return false\" onmouseover=\"addClass(this, 'pricemouseover'); return false\">\n",
      "<div class=\"eventprice\" id=\"ip_selection1229506718price\">\n",
      "\t\t\t\n",
      "\t\t\t\n",
      "\t\t\t\t\n",
      "\t\t\t\t\t5/1\n",
      "\t\t\t\t\n",
      "\t\t\t\n",
      "\t\t\t\n",
      "\t\t</div>\n",
      "<div class=\"clearBoth\"></div>\n",
      "</div>\n",
      "</td>\n",
      "<td scope=\"col\">\n",
      "<div class=\"eventpriceholder-left\" id=\"ip_oddsBtn_1229506719\" onclick=\"document.betslip.add_leg(this,'','L','12','1','','','1229506719')\" onmouseout=\"removeClass(this, 'pricemouseover'); return false\" onmouseover=\"addClass(this, 'pricemouseover'); return false\">\n",
      "<div class=\"eventprice\" id=\"ip_selection1229506719price\">\n",
      "\t\t\t\n",
      "\t\t\t\n",
      "\t\t\t\t\n",
      "\t\t\t\t\t12/1\n",
      "\t\t\t\t\n",
      "\t\t\t\n",
      "\t\t\t\n",
      "\t\t</div>\n",
      "<div class=\"clearBoth\"></div>\n",
      "</div>\n",
      "</td>\n",
      "<td scope=\"col\">\n",
      "<div id=\"more_bets_container_9464616\">\n",
      "<a class=\"\" href=\"http://sports.williamhill.com/bet/en-gb/betting/e/9464616/Man+City+v+Sunderland.html\" id=\"ip_more_bets_link_9464616\" title=\"More markets\">\n",
      "<nobr>+ 138 Bets</nobr>\n",
      "</a>\n",
      "</div>\n",
      "</td>\n",
      "<td id=\"9464616_tv_link\" scope=\"col\">\n",
      "<a class=\"\" href=\"#\" title=\"Live on WHTV. Territory restrictions may apply\"><img height=\"20\" src=\"http://whdn.williamhill.com/core/ob/static/cust/images/en/video.gif?ver=9975b76e305635770e3f9e39b0da4e7f\" style=\"visibility: hidden;\" width=\"16\"/></a>\n",
      "</td>\n",
      "<td id=\"9464616_stats_link\" scope=\"col\">\n",
      "<a class=\"\" href=\"javascript:window.open('http://stats.touch-line.com/Welcome.asp?cust=9&amp;nourl=www.willhill.com/EN/FB_Stats_Touchline','TouchlineStats','scrollbars=1,height=760,width=820,left=10,top=10,titlebar=0,sta tus=0,toolbar=0,menubar=0,location=0');void(0);\" title=\"Touchline Stats\"><img alt=\"Stats\" height=\"20\" src=\"http://whdn.williamhill.com/core/ob/static/cust/images/en/stats.gif?ver=9975b76e305635770e3f9e39b0da4e7f\" width=\"16\"/></a>\n",
      "</td>\n",
      "<td id=\"9464616_my_events_link\" scope=\"col\">\n",
      "<div class=\"contentMyEv\"><div id=\"fav_div_9464616\"><a class=\"\" href=\"#\"><img height=\"20\" src=\"http://whdn.williamhill.com/core/ob/static/cust/images/en/add-event.gif?ver=9975b76e305635770e3f9e39b0da4e7f\" style=\"visibility: hidden;\" width=\"16\"/></a></div></div>\n",
      "</td>\n",
      "<td class=\"leftPad\" scope=\"col\">\n",
      "<span id=\"tzTime:br:1471096800:br:dd_MMM:br:17\">13 Aug</span>\n",
      "</td>\n",
      "<td class=\"leftPad\" scope=\"col\">\n",
      "<span id=\"tzTime:br:1471096800:br:HH:mm_C:br:18\">15:00 UK</span>\n",
      "</td>\n",
      "<td class=\"leftPad\" scope=\"col\">\n",
      "<a href=\"http://sports.williamhill.com/bet/en-gb/betting/e/9464617/Middlesbrough+v+Stoke.html\"><span id=\"9464617_mkt_namespace\">Middlesbrough   v   Stoke</span></a>\n",
      "</td>\n",
      "<td scope=\"col\">\n",
      "</td>\n",
      "<td scope=\"col\">\n",
      "<div class=\"eventpriceholder-left\" id=\"ip_oddsBtn_1229506221\" onclick=\"document.betslip.add_leg(this,'','L','7','5','','','1229506221')\" onmouseout=\"removeClass(this, 'pricemouseover'); return false\" onmouseover=\"addClass(this, 'pricemouseover'); return false\">\n",
      "<div class=\"eventprice\" id=\"ip_selection1229506221price\">\n",
      "\t\t\t\n",
      "\t\t\t\n",
      "\t\t\t\t\n",
      "\t\t\t\t\t7/5\n",
      "\t\t\t\t\n",
      "\t\t\t\n",
      "\t\t\t\n",
      "\t\t</div>\n",
      "<div class=\"clearBoth\"></div>\n",
      "</div>\n",
      "</td>\n",
      "<td scope=\"col\">\n",
      "<div class=\"eventpriceholder-left\" id=\"ip_oddsBtn_1229506222\" onclick=\"document.betslip.add_leg(this,'','L','21','10','','','1229506222')\" onmouseout=\"removeClass(this, 'pricemouseover'); return false\" onmouseover=\"addClass(this, 'pricemouseover'); return false\">\n",
      "<div class=\"eventprice\" id=\"ip_selection1229506222price\">\n",
      "\t\t\t\n",
      "\t\t\t\n",
      "\t\t\t\t\n",
      "\t\t\t\t\t21/10\n",
      "\t\t\t\t\n",
      "\t\t\t\n",
      "\t\t\t\n",
      "\t\t</div>\n",
      "<div class=\"clearBoth\"></div>\n",
      "</div>\n",
      "</td>\n",
      "<td scope=\"col\">\n",
      "<div class=\"eventpriceholder-left\" id=\"ip_oddsBtn_1229506223\" onclick=\"document.betslip.add_leg(this,'','L','21','10','','','1229506223')\" onmouseout=\"removeClass(this, 'pricemouseover'); return false\" onmouseover=\"addClass(this, 'pricemouseover'); return false\">\n",
      "<div class=\"eventprice\" id=\"ip_selection1229506223price\">\n",
      "\t\t\t\n",
      "\t\t\t\n",
      "\t\t\t\t\n",
      "\t\t\t\t\t21/10\n",
      "\t\t\t\t\n",
      "\t\t\t\n",
      "\t\t\t\n",
      "\t\t</div>\n",
      "<div class=\"clearBoth\"></div>\n",
      "</div>\n",
      "</td>\n",
      "<td scope=\"col\">\n",
      "<div id=\"more_bets_container_9464617\">\n",
      "<a class=\"\" href=\"http://sports.williamhill.com/bet/en-gb/betting/e/9464617/Middlesbrough+v+Stoke.html\" id=\"ip_more_bets_link_9464617\" title=\"More markets\">\n",
      "<nobr>+ 135 Bets</nobr>\n",
      "</a>\n",
      "</div>\n",
      "</td>\n",
      "<td id=\"9464617_tv_link\" scope=\"col\">\n",
      "<a class=\"\" href=\"#\" title=\"Live on WHTV. Territory restrictions may apply\"><img height=\"20\" src=\"http://whdn.williamhill.com/core/ob/static/cust/images/en/video.gif?ver=9975b76e305635770e3f9e39b0da4e7f\" style=\"visibility: hidden;\" width=\"16\"/></a>\n",
      "</td>\n",
      "<td id=\"9464617_stats_link\" scope=\"col\">\n",
      "<a class=\"\" href=\"javascript:window.open('http://stats.touch-line.com/Welcome.asp?cust=9&amp;nourl=www.willhill.com/EN/FB_Stats_Touchline','TouchlineStats','scrollbars=1,height=760,width=820,left=10,top=10,titlebar=0,sta tus=0,toolbar=0,menubar=0,location=0');void(0);\" title=\"Touchline Stats\"><img alt=\"Stats\" height=\"20\" src=\"http://whdn.williamhill.com/core/ob/static/cust/images/en/stats.gif?ver=9975b76e305635770e3f9e39b0da4e7f\" width=\"16\"/></a>\n",
      "</td>\n",
      "<td id=\"9464617_my_events_link\" scope=\"col\">\n",
      "<div class=\"contentMyEv\"><div id=\"fav_div_9464617\"><a class=\"\" href=\"#\"><img height=\"20\" src=\"http://whdn.williamhill.com/core/ob/static/cust/images/en/add-event.gif?ver=9975b76e305635770e3f9e39b0da4e7f\" style=\"visibility: hidden;\" width=\"16\"/></a></div></div>\n",
      "</td>\n",
      "<td class=\"leftPad\" scope=\"col\">\n",
      "<span id=\"tzTime:br:1471096800:br:dd_MMM:br:19\">13 Aug</span>\n",
      "</td>\n",
      "<td class=\"leftPad\" scope=\"col\">\n",
      "<span id=\"tzTime:br:1471096800:br:HH:mm_C:br:20\">15:00 UK</span>\n",
      "</td>\n",
      "<td class=\"leftPad\" scope=\"col\">\n",
      "<a href=\"http://sports.williamhill.com/bet/en-gb/betting/e/9464618/Southampton+v+Watford.html\"><span id=\"9464618_mkt_namespace\">Southampton   v   Watford</span></a>\n",
      "</td>\n",
      "<td scope=\"col\">\n",
      "</td>\n",
      "<td scope=\"col\">\n",
      "<div class=\"eventpriceholder-left\" id=\"ip_oddsBtn_1229507229\" onclick=\"document.betslip.add_leg(this,'','L','8','11','','','1229507229')\" onmouseout=\"removeClass(this, 'pricemouseover'); return false\" onmouseover=\"addClass(this, 'pricemouseover'); return false\">\n",
      "<div class=\"eventprice\" id=\"ip_selection1229507229price\">\n",
      "\t\t\t\n",
      "\t\t\t\n",
      "\t\t\t\t\n",
      "\t\t\t\t\t8/11\n",
      "\t\t\t\t\n",
      "\t\t\t\n",
      "\t\t\t\n",
      "\t\t</div>\n",
      "<div class=\"clearBoth\"></div>\n",
      "</div>\n",
      "</td>\n",
      "<td scope=\"col\">\n",
      "<div class=\"eventpriceholder-left\" id=\"ip_oddsBtn_1229507230\" onclick=\"document.betslip.add_leg(this,'','L','13','5','','','1229507230')\" onmouseout=\"removeClass(this, 'pricemouseover'); return false\" onmouseover=\"addClass(this, 'pricemouseover'); return false\">\n",
      "<div class=\"eventprice\" id=\"ip_selection1229507230price\">\n",
      "\t\t\t\n",
      "\t\t\t\n",
      "\t\t\t\t\n",
      "\t\t\t\t\t13/5\n",
      "\t\t\t\t\n",
      "\t\t\t\n",
      "\t\t\t\n",
      "\t\t</div>\n",
      "<div class=\"clearBoth\"></div>\n",
      "</div>\n",
      "</td>\n",
      "<td scope=\"col\">\n",
      "<div class=\"eventpriceholder-left\" id=\"ip_oddsBtn_1229507231\" onclick=\"document.betslip.add_leg(this,'','L','19','5','','','1229507231')\" onmouseout=\"removeClass(this, 'pricemouseover'); return false\" onmouseover=\"addClass(this, 'pricemouseover'); return false\">\n",
      "<div class=\"eventprice\" id=\"ip_selection1229507231price\">\n",
      "\t\t\t\n",
      "\t\t\t\n",
      "\t\t\t\t\n",
      "\t\t\t\t\t19/5\n",
      "\t\t\t\t\n",
      "\t\t\t\n",
      "\t\t\t\n",
      "\t\t</div>\n",
      "<div class=\"clearBoth\"></div>\n",
      "</div>\n",
      "</td>\n",
      "<td scope=\"col\">\n",
      "<div id=\"more_bets_container_9464618\">\n",
      "<a class=\"\" href=\"http://sports.williamhill.com/bet/en-gb/betting/e/9464618/Southampton+v+Watford.html\" id=\"ip_more_bets_link_9464618\" title=\"More markets\">\n",
      "<nobr>+ 126 Bets</nobr>\n",
      "</a>\n",
      "</div>\n",
      "</td>\n",
      "<td id=\"9464618_tv_link\" scope=\"col\">\n",
      "<a class=\"\" href=\"#\" title=\"Live on WHTV. Territory restrictions may apply\"><img height=\"20\" src=\"http://whdn.williamhill.com/core/ob/static/cust/images/en/video.gif?ver=9975b76e305635770e3f9e39b0da4e7f\" style=\"visibility: hidden;\" width=\"16\"/></a>\n",
      "</td>\n",
      "<td id=\"9464618_stats_link\" scope=\"col\">\n",
      "<a class=\"\" href=\"javascript:window.open('http://stats.touch-line.com/Welcome.asp?cust=9&amp;nourl=www.willhill.com/EN/FB_Stats_Touchline','TouchlineStats','scrollbars=1,height=760,width=820,left=10,top=10,titlebar=0,sta tus=0,toolbar=0,menubar=0,location=0');void(0);\" title=\"Touchline Stats\"><img alt=\"Stats\" height=\"20\" src=\"http://whdn.williamhill.com/core/ob/static/cust/images/en/stats.gif?ver=9975b76e305635770e3f9e39b0da4e7f\" width=\"16\"/></a>\n",
      "</td>\n",
      "<td id=\"9464618_my_events_link\" scope=\"col\">\n",
      "<div class=\"contentMyEv\"><div id=\"fav_div_9464618\"><a class=\"\" href=\"#\"><img height=\"20\" src=\"http://whdn.williamhill.com/core/ob/static/cust/images/en/add-event.gif?ver=9975b76e305635770e3f9e39b0da4e7f\" style=\"visibility: hidden;\" width=\"16\"/></a></div></div>\n",
      "</td>\n"
     ]
    }
   ],
   "source": [
    "right_table=soup.find('table', class_='tableData')\n",
    "\n",
    "A=[]\n",
    "B=[]\n",
    "C=[]\n",
    "D=[]\n",
    "E=[]\n",
    "F=[]\n",
    "G=[]\n",
    "\n",
    "\n",
    "\"\"\"for row in right_table.find_all(\"tr\"):\n",
    "    for cells in row.find_all('td'):\n",
    "        A.append(cells[0].find(Text=True))\n",
    "        B.append(cells[1].find(Text=True))\n",
    "        C.append(cells[2].find(text=True))\n",
    "        D.append(cells[3].find(text=True))\n",
    "        E.append(cells[4].find(text=True))\n",
    "        F.append(cells[5].find(text=True))\n",
    "        G.append(cells[6].find(text=True))\n",
    "\n",
    "import pandas as pd\n",
    "\n",
    "df=pd.DataFrame(A,columns=['test'])\n",
    "df['test1']=B\n",
    "df['test2']=C\n",
    "df['test3']=D\n",
    "df['test4']=E\n",
    "df['test5']=F\n",
    "df['test6']=G\n",
    "\n",
    "print(df)\"\"\"\n",
    "k = []\n",
    "for row in right_table.find_all(\"tr\"):\n",
    "    for cells in row.find_all('td'): \n",
    "         print (cells.)"
   ]
  },
  {
   "cell_type": "code",
   "execution_count": null,
   "metadata": {
    "collapsed": true
   },
   "outputs": [],
   "source": []
  }
 ],
 "metadata": {
  "kernelspec": {
   "display_name": "Python 3",
   "language": "python",
   "name": "python3"
  },
  "language_info": {
   "codemirror_mode": {
    "name": "ipython",
    "version": 3
   },
   "file_extension": ".py",
   "mimetype": "text/x-python",
   "name": "python",
   "nbconvert_exporter": "python",
   "pygments_lexer": "ipython3",
   "version": "3.5.1"
  }
 },
 "nbformat": 4,
 "nbformat_minor": 0
}

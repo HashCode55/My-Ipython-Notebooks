{
 "cells": [
  {
   "cell_type": "code",
   "execution_count": 1,
   "metadata": {
    "collapsed": false
   },
   "outputs": [
    {
     "name": "stderr",
     "output_type": "stream",
     "text": [
      "/usr/local/lib/python3.5/site-packages/matplotlib/__init__.py:872: UserWarning: axes.color_cycle is deprecated and replaced with axes.prop_cycle; please use the latter.\n",
      "  warnings.warn(self.msg_depr % (key, alt_key))\n"
     ]
    }
   ],
   "source": [
    "# traditional imports \n",
    "%matplotlib inline\n",
    "import pandas as pd \n",
    "import numpy as np\n",
    "import matplotlib.pyplot as plt\n",
    "import seaborn as sns\n",
    "from collections import defaultdict\n",
    "import json\n",
    "import matplotlib.cm as cm\n",
    "import scipy as sp\n",
    "from matplotlib import rcParams\n",
    "import matplotlib as mpl\n",
    "\n",
    "#colorbrewer2 Dark2 qualitative color table\n",
    "dark2_colors = [(0.10588235294117647, 0.6196078431372549, 0.4666666666666667),\n",
    "                (0.8509803921568627, 0.37254901960784315, 0.00784313725490196),\n",
    "                (0.4588235294117647, 0.4392156862745098, 0.7019607843137254),\n",
    "                (0.9058823529411765, 0.1607843137254902, 0.5411764705882353),\n",
    "                (0.4, 0.6509803921568628, 0.11764705882352941),\n",
    "                (0.9019607843137255, 0.6705882352941176, 0.00784313725490196),\n",
    "                (0.6509803921568628, 0.4627450980392157, 0.11372549019607843)]\n",
    "\n",
    "rcParams['figure.figsize'] = (10, 6)\n",
    "rcParams['figure.dpi'] = 150\n",
    "rcParams['axes.color_cycle'] = dark2_colors\n",
    "rcParams['lines.linewidth'] = 2\n",
    "rcParams['axes.facecolor'] = 'white'\n",
    "rcParams['font.size'] = 14\n",
    "rcParams['patch.edgecolor'] = 'white'\n",
    "rcParams['patch.facecolor'] = dark2_colors[0]\n",
    "rcParams['font.family'] = 'StixGeneral'"
   ]
  },
  {
   "cell_type": "code",
   "execution_count": 14,
   "metadata": {
    "collapsed": true
   },
   "outputs": [],
   "source": [
    "def remove_border(axes = None, left = True, bottom = True, right = False, top = False):\n",
    "    ax = axes or plt.gca()\n",
    "    ax.spines['top'].set_visible(top)\n",
    "    ax.spines['bottom'].set_visible(bottom)\n",
    "    ax.spines['right'].set_visible(right)\n",
    "    ax.spines['left'].set_visible(left)\n",
    "    \n",
    "    #turn off all ticks\n",
    "    ax.yaxis.set_ticks_position('none')\n",
    "    ax.xaxis.set_ticks_position('none')\n",
    "    \n",
    "    #now reenable them accordingily \n",
    "    \n",
    "    if top:\n",
    "        ax.xaxis.tick_top()\n",
    "    if bottom:\n",
    "        ax.xaxis.tick_bottom()\n",
    "    if left:\n",
    "        ax.yaxis.tick_left()\n",
    "    if right:\n",
    "        ax.yaxis.tick_right()\n",
    "        \n",
    "pd.set_option('display.width', 500)\n",
    "pd.set_option('display.max_columns', 100)        "
   ]
  },
  {
   "cell_type": "markdown",
   "metadata": {},
   "source": [
    "#### Dataset\n",
    "The data set has been extracted from the Yelp Phoenix restaurants dataset. The dataset is about the reviews, but the data of users and businesses has been joined.... so that we want to work on the single dataset."
   ]
  },
  {
   "cell_type": "code",
   "execution_count": 3,
   "metadata": {
    "collapsed": false
   },
   "outputs": [
    {
     "data": {
      "text/html": [
       "<div>\n",
       "<table border=\"1\" class=\"dataframe\">\n",
       "  <thead>\n",
       "    <tr style=\"text-align: right;\">\n",
       "      <th></th>\n",
       "      <th>user_id</th>\n",
       "      <th>business_id</th>\n",
       "      <th>date</th>\n",
       "      <th>review_id</th>\n",
       "      <th>stars</th>\n",
       "      <th>usefulvotes_review</th>\n",
       "      <th>user_name</th>\n",
       "      <th>categories</th>\n",
       "      <th>biz_name</th>\n",
       "      <th>latitude</th>\n",
       "      <th>longitude</th>\n",
       "      <th>business_avg</th>\n",
       "      <th>business_review_count</th>\n",
       "      <th>user_avg</th>\n",
       "      <th>user_review_count</th>\n",
       "    </tr>\n",
       "  </thead>\n",
       "  <tbody>\n",
       "    <tr>\n",
       "      <th>0</th>\n",
       "      <td>rLtl8ZkDX5vH5nAx9C3q5Q</td>\n",
       "      <td>9yKzy9PApeiPPOUJEtnvkg</td>\n",
       "      <td>2011-01-26 00:00:00</td>\n",
       "      <td>fWKvX83p0-ka4JS3dc6E5A</td>\n",
       "      <td>5</td>\n",
       "      <td>5</td>\n",
       "      <td>Jason</td>\n",
       "      <td>[Breakfast &amp; Brunch, Restaurants]</td>\n",
       "      <td>Morning Glory Cafe</td>\n",
       "      <td>33.390792</td>\n",
       "      <td>-112.012504</td>\n",
       "      <td>3.87156</td>\n",
       "      <td>109</td>\n",
       "      <td>3.796954</td>\n",
       "      <td>197</td>\n",
       "    </tr>\n",
       "    <tr>\n",
       "      <th>1</th>\n",
       "      <td>SBbftLzfYYKItOMFwOTIJg</td>\n",
       "      <td>9yKzy9PApeiPPOUJEtnvkg</td>\n",
       "      <td>2008-05-04 00:00:00</td>\n",
       "      <td>DASdFe-g0BgfN9J2tanStg</td>\n",
       "      <td>5</td>\n",
       "      <td>1</td>\n",
       "      <td>Jennifer</td>\n",
       "      <td>[Breakfast &amp; Brunch, Restaurants]</td>\n",
       "      <td>Morning Glory Cafe</td>\n",
       "      <td>33.390792</td>\n",
       "      <td>-112.012504</td>\n",
       "      <td>3.87156</td>\n",
       "      <td>109</td>\n",
       "      <td>3.473684</td>\n",
       "      <td>57</td>\n",
       "    </tr>\n",
       "    <tr>\n",
       "      <th>2</th>\n",
       "      <td>mlBC3pN9GXlUUfQi1qBBZA</td>\n",
       "      <td>9yKzy9PApeiPPOUJEtnvkg</td>\n",
       "      <td>2010-07-05 00:00:00</td>\n",
       "      <td>W8CX2h_hmODWmgSJVbMifw</td>\n",
       "      <td>2</td>\n",
       "      <td>1</td>\n",
       "      <td>Jennifer</td>\n",
       "      <td>[Breakfast &amp; Brunch, Restaurants]</td>\n",
       "      <td>Morning Glory Cafe</td>\n",
       "      <td>33.390792</td>\n",
       "      <td>-112.012504</td>\n",
       "      <td>3.87156</td>\n",
       "      <td>109</td>\n",
       "      <td>3.702381</td>\n",
       "      <td>84</td>\n",
       "    </tr>\n",
       "    <tr>\n",
       "      <th>3</th>\n",
       "      <td>0bNXP9quoJEgyVZu9ipGgQ</td>\n",
       "      <td>9yKzy9PApeiPPOUJEtnvkg</td>\n",
       "      <td>2012-10-10 00:00:00</td>\n",
       "      <td>nYVQiPGeiwr7g5BSX7WDJg</td>\n",
       "      <td>3</td>\n",
       "      <td>9</td>\n",
       "      <td>Aileen</td>\n",
       "      <td>[Breakfast &amp; Brunch, Restaurants]</td>\n",
       "      <td>Morning Glory Cafe</td>\n",
       "      <td>33.390792</td>\n",
       "      <td>-112.012504</td>\n",
       "      <td>3.87156</td>\n",
       "      <td>109</td>\n",
       "      <td>3.180077</td>\n",
       "      <td>261</td>\n",
       "    </tr>\n",
       "    <tr>\n",
       "      <th>4</th>\n",
       "      <td>T7J9ae0wTskrI_Bgwp-4cA</td>\n",
       "      <td>9yKzy9PApeiPPOUJEtnvkg</td>\n",
       "      <td>2009-12-17 00:00:00</td>\n",
       "      <td>grZNCXAgd-OH8daA28R-2A</td>\n",
       "      <td>3</td>\n",
       "      <td>1</td>\n",
       "      <td>Jasmine</td>\n",
       "      <td>[Breakfast &amp; Brunch, Restaurants]</td>\n",
       "      <td>Morning Glory Cafe</td>\n",
       "      <td>33.390792</td>\n",
       "      <td>-112.012504</td>\n",
       "      <td>3.87156</td>\n",
       "      <td>109</td>\n",
       "      <td>3.343284</td>\n",
       "      <td>201</td>\n",
       "    </tr>\n",
       "  </tbody>\n",
       "</table>\n",
       "</div>"
      ],
      "text/plain": [
       "                  user_id             business_id                 date               review_id  stars  usefulvotes_review user_name                         categories            biz_name   latitude   longitude  business_avg  business_review_count  user_avg  user_review_count\n",
       "0  rLtl8ZkDX5vH5nAx9C3q5Q  9yKzy9PApeiPPOUJEtnvkg  2011-01-26 00:00:00  fWKvX83p0-ka4JS3dc6E5A      5                   5     Jason  [Breakfast & Brunch, Restaurants]  Morning Glory Cafe  33.390792 -112.012504       3.87156                    109  3.796954                197\n",
       "1  SBbftLzfYYKItOMFwOTIJg  9yKzy9PApeiPPOUJEtnvkg  2008-05-04 00:00:00  DASdFe-g0BgfN9J2tanStg      5                   1  Jennifer  [Breakfast & Brunch, Restaurants]  Morning Glory Cafe  33.390792 -112.012504       3.87156                    109  3.473684                 57\n",
       "2  mlBC3pN9GXlUUfQi1qBBZA  9yKzy9PApeiPPOUJEtnvkg  2010-07-05 00:00:00  W8CX2h_hmODWmgSJVbMifw      2                   1  Jennifer  [Breakfast & Brunch, Restaurants]  Morning Glory Cafe  33.390792 -112.012504       3.87156                    109  3.702381                 84\n",
       "3  0bNXP9quoJEgyVZu9ipGgQ  9yKzy9PApeiPPOUJEtnvkg  2012-10-10 00:00:00  nYVQiPGeiwr7g5BSX7WDJg      3                   9    Aileen  [Breakfast & Brunch, Restaurants]  Morning Glory Cafe  33.390792 -112.012504       3.87156                    109  3.180077                261\n",
       "4  T7J9ae0wTskrI_Bgwp-4cA  9yKzy9PApeiPPOUJEtnvkg  2009-12-17 00:00:00  grZNCXAgd-OH8daA28R-2A      3                   1   Jasmine  [Breakfast & Brunch, Restaurants]  Morning Glory Cafe  33.390792 -112.012504       3.87156                    109  3.343284                201"
      ]
     },
     "execution_count": 3,
     "metadata": {},
     "output_type": "execute_result"
    }
   ],
   "source": [
    "df = pd.read_csv(\"data/bigdf.csv\")\n",
    "df.head()"
   ]
  },
  {
   "cell_type": "markdown",
   "metadata": {},
   "source": [
    "## EDA"
   ]
  },
  {
   "cell_type": "code",
   "execution_count": 5,
   "metadata": {
    "collapsed": false
   },
   "outputs": [
    {
     "data": {
      "text/plain": [
       "user_id                   object\n",
       "business_id               object\n",
       "date                      object\n",
       "review_id                 object\n",
       "stars                      int64\n",
       "usefulvotes_review         int64\n",
       "user_name                 object\n",
       "categories                object\n",
       "biz_name                  object\n",
       "latitude                 float64\n",
       "longitude                float64\n",
       "business_avg             float64\n",
       "business_review_count      int64\n",
       "user_avg                 float64\n",
       "user_review_count          int64\n",
       "dtype: object"
      ]
     },
     "execution_count": 5,
     "metadata": {},
     "output_type": "execute_result"
    }
   ],
   "source": [
    "df.dtypes"
   ]
  },
  {
   "cell_type": "code",
   "execution_count": 22,
   "metadata": {
    "collapsed": false
   },
   "outputs": [
    {
     "data": {
      "text/plain": [
       "<matplotlib.text.Text at 0x10ef3b5c0>"
      ]
     },
     "execution_count": 22,
     "metadata": {},
     "output_type": "execute_result"
    },
    {
     "data": {
      "image/png": "[encoded data removed]",
      "text/plain": [
       "<matplotlib.figure.Figure at 0x1103f1748>"
      ]
     },
     "metadata": {},
     "output_type": "display_data"
    }
   ],
   "source": [
    "#we need a series object...\n",
    "df_user_revcount = df.groupby('user_id').user_review_count.count()\n",
    "#bins is grouping on the x axis \n",
    "ax = df_user_revcount.hist(bins=50, log=True)  \n",
    "remove_border(ax)\n",
    "plt.xlabel(\"Reviews per user count\")\n",
    "plt.ylabel(\"No. of users giving this review count\")\n",
    "plt.grid(False)\n",
    "plt.grid(axis = 'y', color = 'white', linestyle = '-')\n",
    "plt.title(\"Revies per restaurant count\")"
   ]
  },
  {
   "cell_type": "code",
   "execution_count": 25,
   "metadata": {
    "collapsed": false
   },
   "outputs": [
    {
     "data": {
      "text/plain": [
       "<matplotlib.text.Text at 0x10ec37160>"
      ]
     },
     "execution_count": 25,
     "metadata": {},
     "output_type": "execute_result"
    },
    {
     "data": {
      "image/png": "[encoded data removed]",
      "text/plain": [
       "<matplotlib.figure.Figure at 0x10f7059e8>"
      ]
     },
     "metadata": {},
     "output_type": "display_data"
    }
   ],
   "source": [
    "df_business_count = df.groupby('business_id').business_review_count.count()\n",
    "ax = df_business_count.hist(bins = 50, log = True)\n",
    "remove_border(ax)\n",
    "plt.grid(False)\n",
    "plt.grid(axis = 'y', color = 'white', linestyle = '-')\n",
    "plt.xlabel(\"Reviews per business count\")\n",
    "plt.ylabel(\"No. of business getting this review count\")"
   ]
  },
  {
   "cell_type": "code",
   "execution_count": 33,
   "metadata": {
    "collapsed": false
   },
   "outputs": [
    {
     "data": {
      "text/plain": [
       "('Users', 34789, 'businesses', 4503)"
      ]
     },
     "execution_count": 33,
     "metadata": {},
     "output_type": "execute_result"
    }
   ],
   "source": [
    "\"Users\", len(df.user_id.unique()), \"businesses\", len(df.business_id.unique())"
   ]
  },
  {
   "cell_type": "markdown",
   "metadata": {},
   "source": [
    "#### There are more users than businesses!\n",
    "\n",
    "What we see is intuitive, that is, less number of reviews are given be less users, very few users are kind of dedicated reviewing the movies, what we can extract is for example, users having more interest in the movies. Same goes for the number of businesses, but what we can extract is, the businesses having more number of reviews are less which tells us that there are very few businesses which are good or which may be have good approaches? \n",
    "\n",
    "Now we'll compute the average - "
   ]
  },
  {
   "cell_type": "code",
   "execution_count": 39,
   "metadata": {
    "collapsed": false
   },
   "outputs": [
    {
     "data": {
      "text/plain": [
       "3.7414126802349332"
      ]
     },
     "execution_count": 39,
     "metadata": {},
     "output_type": "execute_result"
    }
   ],
   "source": [
    "#mean revies given by the users\n",
    "df.stars.mean()"
   ]
  },
  {
   "cell_type": "code",
   "execution_count": 43,
   "metadata": {
    "collapsed": false
   },
   "outputs": [
    {
     "data": {
      "text/plain": [
       "<matplotlib.text.Text at 0x10fd34748>"
      ]
     },
     "execution_count": 43,
     "metadata": {},
     "output_type": "execute_result"
    },
    {
     "data": {
      "image/png": "[encoded data removed]",
      "text/plain": [
       "<matplotlib.figure.Figure at 0x10e947f98>"
      ]
     },
     "metadata": {},
     "output_type": "display_data"
    }
   ],
   "source": [
    "#important plotting strategy\n",
    "stars = df.stars \n",
    "ax=stars.hist(bins=5)\n",
    "remove_border(ax)\n",
    "plt.xlabel(\"Star rating\")\n",
    "plt.grid(False)\n",
    "plt.grid(axis = 'y', color ='white', linestyle='-')\n",
    "plt.title(\"Star ratings over all reviews\")"
   ]
  },
  {
   "cell_type": "code",
   "execution_count": null,
   "metadata": {
    "collapsed": true
   },
   "outputs": [],
   "source": []
  }
 ],
 "metadata": {
  "kernelspec": {
   "display_name": "Python 3",
   "language": "python",
   "name": "python3"
  },
  "language_info": {
   "codemirror_mode": {
    "name": "ipython",
    "version": 3
   },
   "file_extension": ".py",
   "mimetype": "text/x-python",
   "name": "python",
   "nbconvert_exporter": "python",
   "pygments_lexer": "ipython3",
   "version": "3.5.1"
  }
 },
 "nbformat": 4,
 "nbformat_minor": 0
}

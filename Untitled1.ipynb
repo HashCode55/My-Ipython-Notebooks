{
 "cells": [
  {
   "cell_type": "code",
   "execution_count": 1,
   "metadata": {
    "collapsed": true
   },
   "outputs": [],
   "source": [
    "%matplotlib inline\n",
    "import numpy as np\n",
    "import scipy as sp\n",
    "import matplotlib as mpl\n",
    "import matplotlib.cm as cm\n",
    "import matplotlib.pyplot as plt\n",
    "import pandas as pd\n",
    "pd.set_option('display.width', 500)\n",
    "pd.set_option('display.max_columns', 100)\n",
    "pd.set_option('display.notebook_repr_html', True)\n",
    "import seaborn as sns\n",
    "sns.set_style(\"whitegrid\")\n",
    "sns.set_context(\"poster\")\n",
    "from PIL import Image"
   ]
  },
  {
   "cell_type": "code",
   "execution_count": 3,
   "metadata": {
    "collapsed": false
   },
   "outputs": [],
   "source": [
    "from sklearn.grid_search import GridSearchCV\n",
    "from sklearn.cross_validation import train_test_split\n",
    "from sklearn.metrics import confusion_matrix\n",
    "\n",
    "def gridsearch_cv(clf, x, y, params, nfolds = 5, njobs = 1, score_func = None):\n",
    "    if score_func:\n",
    "        gs = GridSearchCV(clf, param_grid = params, cv = nfolds, n_jobs = njobs, scoring = score_func)\n",
    "    else:    \n",
    "        gs = GridSearchCV(clf, param_grid = params, cv = nfolds, n_jobs = njobs)\n",
    "    gs.fit(x, y)\n",
    "    print (\"BEST\", gs.best_params_, gs.best_score_, gs.grid_scores_, gs.best_estimator_)\n",
    "    best_est = gs.best_estimator_\n",
    "    return best_est\n",
    "\n",
    "def classify(clf, params, dataframe, features, targetname, targetval, mask = None, nfolds = 5,\n",
    "            njobs = 1, reuse_split = None, score_func = None):\n",
    "    sub_df_acc2features = dataframe[features]\n",
    "    x = sub_df_acc2features.values\n",
    "    y = (dataframe[targetname].values==targetval)*1\n",
    "    if mask != None:\n",
    "        trainx, testx, trainy, testy = x[mask], x[~mask], y[mask], y[~mask]\n",
    "    if reuse_split !=None:\n",
    "        print (\"using reuse split\")\n",
    "        Xtrain, Xtest, ytrain, ytest = reuse_split['Xtrain'], reuse_split['Xtest'], reuse_split['ytrain'], reuse_split['ytest']\n",
    "    if parameters:\n",
    "        clf = cv_optimize(clf, parameters, Xtrain, ytrain, n_jobs=n_jobs, n_folds=n_folds, score_func=score_func)\n",
    "    clf=clf.fit(Xtrain, ytrain)\n",
    "    training_accuracy = clf.score(Xtrain, ytrain)\n",
    "    test_accuracy = clf.score(Xtest, ytest)\n",
    "    print (\"############# based on standard predict ################\")\n",
    "    print (\"Accuracy on training data: %0.2f\" % (training_accuracy))\n",
    "    print (\"Accuracy on test data:     %0.2f\" % (test_accuracy))\n",
    "    print (confusion_matrix(ytest, clf.predict(Xtest)))\n",
    "    print (\"########################################################\")\n",
    "    return clf, Xtrain, ytrain, Xtest, ytest"
   ]
  },
  {
   "cell_type": "code",
   "execution_count": null,
   "metadata": {
    "collapsed": true
   },
   "outputs": [],
   "source": []
  }
 ],
 "metadata": {
  "kernelspec": {
   "display_name": "Python 3",
   "language": "python",
   "name": "python3"
  },
  "language_info": {
   "codemirror_mode": {
    "name": "ipython",
    "version": 3
   },
   "file_extension": ".py",
   "mimetype": "text/x-python",
   "name": "python",
   "nbconvert_exporter": "python",
   "pygments_lexer": "ipython3",
   "version": "3.5.1"
  }
 },
 "nbformat": 4,
 "nbformat_minor": 0
}
